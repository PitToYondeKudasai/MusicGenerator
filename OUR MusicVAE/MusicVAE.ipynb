{
 "cells": [
  {
   "cell_type": "markdown",
   "metadata": {},
   "source": [
    "# MusicVAE"
   ]
  },
  {
   "cell_type": "markdown",
   "metadata": {},
   "source": [
    "This is my implementation of the MusicVAE described in the paper \n",
    "https://arxiv.org/abs/1803.05428 <br>\n",
    "It is written with the help of the code found here: https://github.com/Variational-Autoencoder/MusicVAE"
   ]
  },
  {
   "cell_type": "code",
   "execution_count": 1,
   "metadata": {},
   "outputs": [],
   "source": [
    "import torch\n",
    "import numpy as np\n",
    "import torch.nn as nn\n",
    "from torch.nn.functional import softplus\n",
    "#DATA IMPORTING LIBRARIES\n",
    "# Add the src folder to the path\n",
    "import sys\n",
    "sys.path.insert(0, '../src/')\n",
    "\n",
    "from data.dataloader import MidiDataset\n",
    "from data.bar_transform import BarTransform\n",
    "from torch.utils.data import Dataset, DataLoader\n",
    "\n",
    "from torch.utils.data.sampler import SubsetRandomSampler\n",
    "from torch.utils.data import DataLoader, random_split\n",
    "\n",
    "\n",
    "#half of this is not yet needed but maybe it will be to visualize the latent space\n",
    "import matplotlib.pyplot as plt\n",
    "from IPython.display import Image, Audio, display, clear_output\n",
    "import numpy as np\n",
    "from sklearn.decomposition import PCA\n",
    "%matplotlib nbagg\n",
    "%matplotlib inline\n",
    "import seaborn as sns\n",
    "sns.set_style(\"whitegrid\")\n",
    "sns.set_palette(sns.dark_palette(\"purple\"))\n",
    "\n",
    "from midi_builder import MidiBuilder\n",
    "builder = MidiBuilder()"
   ]
  },
  {
   "cell_type": "code",
   "execution_count": 2,
   "metadata": {},
   "outputs": [],
   "source": [
    "NOTESPERBAR=16 #total notes in one bar\n",
    "\n",
    "totalbars=16 #total bars as input \n",
    "NUM_PITCHES=60+1 # all possible notes to play +1 for silences\n",
    "\n",
    "TOTAL_NOTES=NOTESPERBAR*totalbars\n",
    "\n",
    "num_features=NUM_PITCHES #size of input feature vector\n",
    "\n",
    "batch_size = 64 #actual batchsize\n",
    "\n",
    "TEACHER_FORCING=True #not used but it will be needed\n"
   ]
  },
  {
   "cell_type": "code",
   "execution_count": 3,
   "metadata": {},
   "outputs": [],
   "source": [
    "cuda = torch.cuda.is_available()\n",
    "device = torch.device(\"cuda\" if cuda else \"cpu\")"
   ]
  },
  {
   "cell_type": "code",
   "execution_count": 4,
   "metadata": {},
   "outputs": [],
   "source": [
    "# Define size of variables\n",
    "\n",
    "params = dict(\n",
    "    input_size = NUM_PITCHES, \n",
    "    encoder_hidden_size = 256, # hidden size of the encoder \n",
    "    conductor_hidden_size = 256, # hidden size of the decoder\n",
    "    decoder_hidden_size = 64, # hidden size of the decoder\n",
    "    decoder_initial_state = 32, # input size of the decoder\n",
    "\n",
    "    n_layers_encoder = 1,\n",
    "    n_layers_conductor = 2,\n",
    "    n_layers_decoder = 1,\n",
    "\n",
    "    latent_features = 64, # latent space dimension\n",
    "    sequence_length = 16, # notes per decoder\n",
    "\n",
    "    dropout_rate = 0.2,\n",
    "    device = device,\n",
    "    \n",
    "    csv_filename = './piano_rolls.csv',\n",
    "    \n",
    "    NOTESPERBAR = NOTESPERBAR,\n",
    "    totalbars = totalbars, #total bars as input \n",
    "    NUM_PITCHES = NUM_PITCHES, # all possible notes to play +1 for silences   \n",
    "    TOTAL_NOTES = TOTAL_NOTES,\n",
    "    num_features = num_features, #size of input feature vector\n",
    "    batch_size = batch_size, #actual batchsize\n",
    "    TEACHER_FORCING = True #not used but it will be needed\n",
    ")"
   ]
  },
  {
   "cell_type": "markdown",
   "metadata": {},
   "source": [
    "LOADING DATA"
   ]
  },
  {
   "cell_type": "code",
   "execution_count": 5,
   "metadata": {},
   "outputs": [
    {
     "name": "stderr",
     "output_type": "stream",
     "text": [
      "/Library/Frameworks/Python.framework/Versions/3.7/lib/python3.7/site-packages/numpy/lib/arraysetops.py:580: FutureWarning: elementwise comparison failed; returning scalar instead, but in the future will perform elementwise comparison\n",
      "  mask |= (ar1 == a)\n"
     ]
    },
    {
     "name": "stdout",
     "output_type": "stream",
     "text": [
      "Train size: 6230, Test size: 1557\n"
     ]
    }
   ],
   "source": [
    "transform = BarTransform(bars = params['totalbars'], note_count = params['NUM_PITCHES'])\n",
    "midi_dataset = MidiDataset(csv_file = params['csv_filename'], transform = transform)\n",
    "midi_dataset.get_mem_usage()\n",
    "\n",
    "random_seed = 42\n",
    "test_split = 0.2\n",
    "shuffle = True\n",
    "\n",
    "if random_seed is not None:\n",
    "    np.random.seed(random_seed)\n",
    "    \n",
    "dataset_size = len(midi_dataset)           #number of musics on dataset\n",
    "test_size = int(test_split * dataset_size) #test size length\n",
    "train_size = dataset_size - test_size      #train data length\n",
    "\n",
    "train_dataset, test_dataset = random_split(midi_dataset, [train_size, test_size])\n",
    "\n",
    "train_loader = DataLoader(train_dataset, \n",
    "                          shuffle=shuffle, \n",
    "                          batch_size = params['batch_size'], \n",
    "                          num_workers = 4)#, sampler=train_sampler)\n",
    "test_loader = DataLoader(test_dataset, \n",
    "                         shuffle = shuffle, \n",
    "                         batch_size = params['batch_size'], \n",
    "                         num_workers = 4)#, sampler=test_sampler)\n",
    "\n",
    "print(\"Train size: {}, Test size: {}\".format(train_size, test_size))"
   ]
  },
  {
   "cell_type": "code",
   "execution_count": 6,
   "metadata": {},
   "outputs": [
    {
     "data": {
      "text/plain": [
       "(256, 61)"
      ]
     },
     "execution_count": 6,
     "metadata": {},
     "output_type": "execute_result"
    }
   ],
   "source": [
    "train_dataset[0]['piano_rolls'].shape"
   ]
  },
  {
   "cell_type": "markdown",
   "metadata": {},
   "source": [
    "## MusicVAE Model"
   ]
  },
  {
   "cell_type": "code",
   "execution_count": 7,
   "metadata": {},
   "outputs": [],
   "source": [
    "class Encoder(nn.Module):\n",
    "    def __init__(self, params):\n",
    "        super(Encoder, self).__init__()\n",
    "        self.latent_features = params['latent_features']\n",
    "        self.decoder_initial_size = params['decoder_hidden_size']\n",
    "        self.encoder_hidden_size = params['encoder_hidden_size']\n",
    "        self.NUM_PITCHES = params['NUM_PITCHES']\n",
    "        self.device = params['device']\n",
    "        self.dropout_rate = params['dropout_rate']\n",
    "        self.worddropout = nn.Dropout2d(p = self.dropout_rate)\n",
    "        \n",
    "        self.encoder = nn.LSTM(\n",
    "            input_size = params['input_size'],\n",
    "            hidden_size = params['encoder_hidden_size'],\n",
    "            num_layers = params['n_layers_encoder'],\n",
    "            batch_first = True,\n",
    "            bidirectional = True)\n",
    "        self.encoderOut = nn.Linear(2 * self.encoder_hidden_size, 2 * self.latent_features)\n",
    "        self.linear_z = nn.Linear(self.latent_features, self.decoder_initial_size) \n",
    "        \n",
    "    def init_hidden(self, batch_size):   \n",
    "        init = torch.zeros(2, batch_size, self.encoder_hidden_size, device = self.device)\n",
    "        c0 = torch.zeros(2, batch_size, self.encoder_hidden_size, device = self.device)\n",
    "        return init, c0\n",
    "\n",
    "    def epsilon(self, epsilon_size):\n",
    "        # Don't propagate gradients through randomness\n",
    "        with torch.no_grad():\n",
    "            epsilon = torch.randn(epsilon_size, 1, self.latent_features, device = self.device)\n",
    "        return epsilon\n",
    "        \n",
    "    def forward(self, x):\n",
    "        batch_size = x.size(0)\n",
    "        note = torch.zeros(batch_size, 1 , self.NUM_PITCHES, device = self.device)\n",
    "        x = self.worddropout(x)\n",
    "        h0, c0, = self.init_hidden(batch_size)\n",
    "        x, hidden = self.encoder(x, (h0,c0))\n",
    "        x = self.encoderOut(x)\n",
    "        mu, log_var = torch.chunk(x, 2, dim = -1)\n",
    "        log_var = softplus(log_var) # Make sure that the log variance is positive\n",
    "\n",
    "        sigma = torch.exp(2 * log_var)\n",
    "        epsilon = self.epsilon(mu.size(0))\n",
    "        z = mu + epsilon * sigma\n",
    "        z = self.linear_z(z)\n",
    "        return z, mu, log_var\n",
    "        "
   ]
  },
  {
   "cell_type": "code",
   "execution_count": 8,
   "metadata": {},
   "outputs": [],
   "source": [
    "class Decoder(nn.Module):\n",
    "    def __init__(self, params, eps_i = 1):\n",
    "        super(Decoder, self).__init__()\n",
    "        self.latent_features = params['latent_features']\n",
    "        self.decoder_initial_size = params['decoder_hidden_size']\n",
    "        self.encoder_hidden_size = params['encoder_hidden_size']\n",
    "        self.NUM_PITCHES = params['NUM_PITCHES']\n",
    "        self.TOTAL_NOTES = params['TOTAL_NOTES']\n",
    "        self.device = params['device']\n",
    "        self.TEACHER_FORCING = params['TEACHER_FORCING']\n",
    "        self.eps_i = eps_i\n",
    "        \n",
    "        self.conductor = nn.LSTM(\n",
    "            input_size = self.decoder_initial_size, \n",
    "            hidden_size = self.decoder_initial_size, \n",
    "            num_layers = 1,\n",
    "            batch_first = True\n",
    "        )\n",
    "        \n",
    "        self.decoder = nn.LSTM(\n",
    "            input_size = self.NUM_PITCHES + self.decoder_initial_size,\n",
    "            hidden_size = self.decoder_initial_size, \n",
    "            num_layers = 1,\n",
    "            batch_first = True)\n",
    "        \n",
    "        self.linear = nn.Linear(self.decoder_initial_size, self.NUM_PITCHES)\n",
    "    \n",
    "    def set_scheduled_sampling(self, eps_i):\n",
    "        self.eps_i = eps_i\n",
    "    \n",
    "    def use_teacher_forcing(self):\n",
    "        with torch.no_grad():\n",
    "            tf = np.random.rand(1)[0] <= self.eps_i\n",
    "        return tf   \n",
    "    \n",
    "    def init_hidden(self, batch_size):\n",
    "        init_conductor = torch.zeros(1, batch_size, self.decoder_initial_size, device = self.device)\n",
    "        c_condunctor = torch.zeros(1, batch_size, self.decoder_initial_size, device = self.device)     \n",
    "        return init_conductor, c_condunctor\n",
    "    \n",
    "    def forward(self, z, x):\n",
    "        batch_size = x.size(0)\n",
    "        \n",
    "        hconductor, cconductor = self.init_hidden(batch_size)\n",
    "        conductor_hidden = (hconductor,cconductor)\n",
    "        counter = 0\n",
    "        notes = torch.zeros(batch_size, self.TOTAL_NOTES, self.NUM_PITCHES, device = self.device)\n",
    "        note = torch.zeros(batch_size, 1 , self.NUM_PITCHES, device = self.device)\n",
    "        the_input = torch.cat([note,x],dim=1)\n",
    "        for i in range(16):\n",
    "            embedding, conductor_hidden = self.conductor(z[:,i,:].view(batch_size, 1, -1), conductor_hidden)  \n",
    "            # Reset the decoder state of each 16 bar sequence\n",
    "            decoder_hidden = (torch.randn(1, batch_size, self.decoder_initial_size, device = self.device), \n",
    "                              torch.randn(1, batch_size, self.decoder_initial_size, device = self.device))\n",
    "            if self.use_teacher_forcing():\n",
    "                embedding = embedding.expand(batch_size, NOTESPERBAR, embedding.shape[2])\n",
    "                e = torch.cat([embedding,the_input[:, range(i * 16, i * 16 + 16),:]],dim = -1)\n",
    "                notes2, decoder_hidden = self.decoder(e, decoder_hidden)\n",
    "                aux = self.linear(notes2)\n",
    "                aux = torch.softmax(aux, dim = 2);\n",
    "                #generates 16 notes per batch at a time\n",
    "                notes[:, range(i * 16, i * 16 + 16),:] = aux;\n",
    "            else:           \n",
    "                for _ in range(sequence_length):\n",
    "                    # Concat embedding with previous note         \n",
    "                    e = torch.cat([embedding, note], dim=-1)\n",
    "                    e = e.view(batch_size, 1, -1)\n",
    "                    # Generate a single note (for each batch)\n",
    "                    note, decoder_hidden = self.decoder(e, decoder_hidden)                  \n",
    "                    aux = self.linear(note)\n",
    "                    aux = torch.softmax(aux, dim = 2);                   \n",
    "                    notes[:,counter,:] = aux.squeeze();                   \n",
    "                    note = aux                    \n",
    "                    counter = counter + 1\n",
    "        outputs = {}         \n",
    "        outputs['x_hat'] = notes\n",
    "        outputs['z'] = z\n",
    "        return outputs \n",
    "       "
   ]
  },
  {
   "cell_type": "code",
   "execution_count": 9,
   "metadata": {},
   "outputs": [],
   "source": [
    "class VariationalAutoencoder(nn.Module):\n",
    "    def __init__(self, params):\n",
    "        super(VariationalAutoencoder, self).__init__()\n",
    "        self.encoder = Encoder(params)\n",
    "        self.decoder = Decoder(params)\n",
    "        \n",
    "    def set_scheduled_sampling(self, eps_i):\n",
    "        self.decoder.set_scheduled_sampling(eps_i)\n",
    "              \n",
    "    def forward(self, x):\n",
    "        x = Variable(torch.Tensor(x)).to(device)\n",
    "        z, mu, log_var = self.encoder(x)\n",
    "        outputs = self.decoder(z,x)\n",
    "        outputs['mu'] = mu\n",
    "        outputs['log_var'] = log_var\n",
    "        return outputs    \n",
    "    "
   ]
  },
  {
   "cell_type": "code",
   "execution_count": 10,
   "metadata": {},
   "outputs": [],
   "source": [
    "MusicVAE = VariationalAutoencoder(params)"
   ]
  },
  {
   "cell_type": "code",
   "execution_count": 11,
   "metadata": {},
   "outputs": [],
   "source": [
    "#directly taken from notebook, probably some adaptation might be needed\n",
    "\n",
    "from torch.nn.functional import binary_cross_entropy\n",
    "from torch import optim\n",
    "from torch.distributions.normal import Normal\n",
    "from torch.distributions.kl import kl_divergence\n",
    "\n",
    "\n",
    "def ELBO_loss(y, t, mu, log_var, weight):\n",
    "    # Reconstruction error, log[p(x|z)]\n",
    "    # Sum over features\n",
    "    likelihood = -binary_cross_entropy(y, t, reduction=\"none\")\n",
    "    likelihood = likelihood.view(likelihood.size(0), -1).sum(1)\n",
    "\n",
    "    # Regularization error: \n",
    "    # Kulback-Leibler divergence between approximate posterior, q(z|x)\n",
    "    # and prior p(z) = N(z | mu, sigma*I).\n",
    "    sigma = torch.exp(log_var*2)\n",
    "    n_mu = torch.Tensor([0])\n",
    "    n_sigma = torch.Tensor([1])\n",
    "    if cuda:\n",
    "        n_mu = n_mu.cuda()\n",
    "        n_sigma = n_sigma.cuda()\n",
    "\n",
    "    p = Normal(n_mu, n_sigma)\n",
    "    q = Normal(mu, sigma)\n",
    "\n",
    "    #The method signature is P and Q, but might need to be reversed to calculate divergence of Q with respect to P\n",
    "    kl_div = kl_divergence(q, p)\n",
    "    \n",
    "    # In the case of the KL-divergence between diagonal covariance Gaussian and \n",
    "    # a standard Gaussian, an analytic solution exists. Using this excerts a lower\n",
    "    # variance estimator of KL(q||p)\n",
    "    #kl = -weight * torch.sum(1 + log_var - mu**2 - torch.exp(log_var), dim=(1,2))\n",
    "    \n",
    "    # Combining the two terms in the evidence lower bound objective (ELBO) \n",
    "    # mean over batch\n",
    "    ELBO = torch.mean(likelihood) - (weight*torch.mean(kl_div)) # add a weight to the kl using warmup\n",
    "    \n",
    "    # notice minus sign as we want to maximise ELBO\n",
    "    return -ELBO, kl_div.mean(),weight*kl_div.mean() # mean instead of sum\n",
    "\n",
    "\n",
    "\n",
    "# define our optimizer\n",
    "# The Adam optimizer works really well with VAEs.\n",
    "#params = list(encoder.parameters()) + list(decoder.parameters())\n",
    "params_weights = MusicVAE.parameters()\n",
    "optimizer = optim.Adam(params_weights, lr=0.001)\n",
    "loss_function = ELBO_loss"
   ]
  },
  {
   "cell_type": "markdown",
   "metadata": {},
   "source": [
    "Testing if forward pass works"
   ]
  },
  {
   "cell_type": "code",
   "execution_count": 12,
   "metadata": {},
   "outputs": [
    {
     "name": "stdout",
     "output_type": "stream",
     "text": [
      "(2, 256, 61)\n",
      "x shape: torch.Size([2, 256, 61])\n",
      "h_hat shape torch.Size([2, 256, 61])\n",
      "z shape: torch.Size([2, 256, 64])\n",
      "tensor(1314.0276, grad_fn=<NegBackward>)\n",
      "tensor(6.1233, grad_fn=<MeanBackward0>)\n"
     ]
    }
   ],
   "source": [
    "from torch.autograd import Variable\n",
    "\n",
    "#setting dummy data\n",
    "#Generating dummy data\n",
    "a = np.random.randint(NUM_PITCHES, size = TOTAL_NOTES)\n",
    "data = np.zeros((TOTAL_NOTES, NUM_PITCHES))\n",
    "data[np.arange(TOTAL_NOTES), a] = 1 #generating dummy data\n",
    "\n",
    "a = np.random.randint(NUM_PITCHES, size = TOTAL_NOTES)\n",
    "data1 = np.zeros((TOTAL_NOTES, NUM_PITCHES))\n",
    "data1[np.arange(TOTAL_NOTES), a] = 1 #generating dummy data\n",
    "d = np.zeros((2,TOTAL_NOTES, NUM_PITCHES))\n",
    "d[0] = data\n",
    "d[1] = data1\n",
    "\n",
    "print(d.shape)\n",
    "x = d \n",
    "x = Variable(torch.Tensor(x)).to(device)\n",
    "#z, mu, log_var = encoder(x)\n",
    "#outputs = decoder(z,x)\n",
    "outputs = MusicVAE(x)\n",
    "\n",
    "\n",
    "x_hat = outputs[\"x_hat\"]\n",
    "z = outputs[\"z\"]\n",
    "mu = outputs['mu']\n",
    "log_var = outputs['log_var']\n",
    "\n",
    "loss, kl,klw = loss_function(x_hat, x, mu, log_var,1)\n",
    "\n",
    "print('x shape:', x.shape)\n",
    "print('h_hat shape', x_hat.shape)\n",
    "print('z shape:', z.shape)\n",
    "print(loss)\n",
    "print(kl)\n"
   ]
  },
  {
   "cell_type": "code",
   "execution_count": 17,
   "metadata": {},
   "outputs": [],
   "source": [
    "num_epochs = 2\n",
    "warmup_epochs= 90\n",
    "pre_warmup_epochs = 10"
   ]
  },
  {
   "cell_type": "code",
   "execution_count": 14,
   "metadata": {},
   "outputs": [
    {
     "data": {
      "text/plain": [
       "<matplotlib.legend.Legend at 0x7f8a8bd50c90>"
      ]
     },
     "execution_count": 14,
     "metadata": {},
     "output_type": "execute_result"
    },
    {
     "data": {
      "image/png": "[encoded data removed]",
      "text/plain": [
       "<Figure size 720x360 with 1 Axes>"
      ]
     },
     "metadata": {},
     "output_type": "display_data"
    }
   ],
   "source": [
    "scheduled_decay_rate = 40\n",
    "\n",
    "def lin_decay(i, mineps=0):\n",
    "    return np.max([mineps, 1 - (1/len(train_loader))*i])\n",
    "\n",
    "def inv_sigmoid_decay(i, rate=40):\n",
    "    return rate/(rate + np.exp(i/rate))\n",
    "\n",
    "eps = []\n",
    "for i in range(len(train_loader)):\n",
    "    eps_i = inv_sigmoid_decay(i, rate=scheduled_decay_rate)\n",
    "    eps.append(eps_i)\n",
    "\n",
    "    \n",
    "eps2 = []\n",
    "for i in range(len(train_loader)):\n",
    "    eps_i = lin_decay(i, 0)\n",
    "    eps2.append(eps_i)\n",
    "\n",
    "f, ax = plt.subplots(1, 1, figsize=(10, 5))\n",
    "ax.plot(eps, color=\"red\")\n",
    "ax.plot(eps2, color=\"green\")\n",
    "ax.legend(['Inverse sigmoid decay', 'Linear decay'], prop={'size': 16})"
   ]
  },
  {
   "cell_type": "code",
   "execution_count": 18,
   "metadata": {},
   "outputs": [
    {
     "name": "stdout",
     "output_type": "stream",
     "text": [
      "Estimated time until completion: 0.13 hours / 8.00 minutes/ 480.00 seconds\n"
     ]
    },
    {
     "data": {
      "image/png": "[encoded data removed]",
      "text/plain": [
       "<Figure size 720x360 with 1 Axes>"
      ]
     },
     "metadata": {},
     "output_type": "display_data"
    }
   ],
   "source": [
    "# 3 = ~12 minutes\n",
    "#num_epochs = 200\n",
    "#warmup_epochs= 90\n",
    "#pre_warmup_epochs = 10\n",
    "\n",
    "\n",
    "warmup_lerp = 1/warmup_epochs\n",
    "\n",
    "if warmup_epochs > num_epochs - pre_warmup_epochs:\n",
    "    warmup_epochs=num_epochs - pre_warmup_epochs\n",
    "\n",
    "\n",
    "# Plot how the warmup looks\n",
    "kl_w = 0\n",
    "kls = []\n",
    "for e in range(num_epochs):\n",
    "    if e >= pre_warmup_epochs:\n",
    "        kl_w = kl_w + warmup_lerp\n",
    "        if kl_w > 1:\n",
    "            kl_w=1.\n",
    "\n",
    "    kls.append(kl_w)\n",
    "\n",
    "f, ax = plt.subplots(1, 1, figsize=(10, 5))\n",
    "ax.plot(kls, color=\"red\")\n",
    "ax.legend(['KL Term warmup'], prop={'size': 16})\n",
    "\n",
    "est_time = 4*num_epochs\n",
    "print(\"Estimated time until completion: {:.2f} hours / {:.2f} minutes/ {:.2f} seconds\".format(est_time/60, est_time, est_time*60))"
   ]
  },
  {
   "cell_type": "code",
   "execution_count": 19,
   "metadata": {},
   "outputs": [
    {
     "name": "stdout",
     "output_type": "stream",
     "text": [
      "Finished. Time elapsed: 318.331836 seconds\n"
     ]
    }
   ],
   "source": [
    "# from torch.autograd import Variable\n",
    "import time\n",
    "import os\n",
    "import math\n",
    "tmp_img = \"tmp_vae_out.png\"\n",
    "\n",
    "warmup_w=0\n",
    "\n",
    "eps_i = 1\n",
    "use_scheduled_sampling = False\n",
    "\n",
    "train_loss, valid_loss = [], []\n",
    "train_kl, valid_kl,train_klw = [], [],[]\n",
    "\n",
    "start = time.time()\n",
    "\n",
    "print(\"Training epoch {}\".format(0))\n",
    "#epochs loop\n",
    "for epoch in range(num_epochs):\n",
    "    \n",
    "    batch_loss, batch_kl,batch_klw = [], [],[]\n",
    "    MusicVAE.train()\n",
    "\n",
    "    for i_batch, sample_batched in enumerate(train_loader):\n",
    "        #if i_batch == 10:\n",
    "        #    break\n",
    "        x = sample_batched['piano_rolls']\n",
    "\n",
    "        x = x.type('torch.FloatTensor')\n",
    "        \n",
    "        #if i_batch%10==0:\n",
    "        #    print(\"batch:\",i_batch)\n",
    "\n",
    "        x = Variable(x)\n",
    "\n",
    "        # This is an alternative way of putting\n",
    "        # a tensor on the GPU\n",
    "        x = x.to(device)\n",
    "        \n",
    "        ## Calc the sched sampling rate:\n",
    "        if epoch >= pre_warmup_epochs and use_scheduled_sampling:\n",
    "            eps_i = inv_sigmoid_decay(i_batch, rate=scheduled_decay_rate)\n",
    "\n",
    "        MusicVAE.set_scheduled_sampling(eps_i)\n",
    "        \n",
    "        outputs = MusicVAE(x)\n",
    "        x_hat = outputs['x_hat']\n",
    "        mu, log_var = outputs['mu'], outputs['log_var']\n",
    "\n",
    "        elbo, kl,kl_w = loss_function(x_hat, x, mu, log_var, warmup_w)\n",
    "\n",
    "        optimizer.zero_grad()\n",
    "        elbo.backward()\n",
    "        optimizer.step()\n",
    "\n",
    "        batch_loss.append(elbo.item())\n",
    "        batch_kl.append(kl.item())\n",
    "        batch_klw.append(kl_w.item())\n",
    "    train_loss.append(np.mean(batch_loss))\n",
    "    train_kl.append(np.mean(batch_kl))\n",
    "    train_klw.append(np.mean(batch_klw))\n",
    "\n",
    "    # Evaluate, do not propagate gradients\n",
    "    with torch.no_grad():\n",
    "        MusicVAE.eval()\n",
    "\n",
    "        # Just load a single batch from the test loader\n",
    "        x = next(iter(test_loader))\n",
    "        x = Variable(x['piano_rolls'].type('torch.FloatTensor'))\n",
    "\n",
    "        x = x.to(device)\n",
    "\n",
    "        MusicVAE.set_scheduled_sampling(1.) # Please use teacher forcing for validations\n",
    "        outputs = MusicVAE(x)\n",
    "        x_hat = outputs['x_hat']\n",
    "        mu, log_var = outputs['mu'], outputs['log_var']\n",
    "        z = outputs[\"z\"]\n",
    "\n",
    "        elbo, kl,klw = loss_function(x_hat, x, mu, log_var, warmup_w)\n",
    "\n",
    "        # We save the latent variable and reconstruction for later use\n",
    "        # we will need them on the CPU to plot\n",
    "        x = x.to(\"cpu\")\n",
    "        x_hat = x_hat.to(\"cpu\")\n",
    "        z = z.detach().to(\"cpu\").numpy()\n",
    "\n",
    "        valid_loss.append(elbo.item())\n",
    "        valid_kl.append(kl.item())\n",
    "    \n",
    "    if epoch >= pre_warmup_epochs:\n",
    "        warmup_w = warmup_w + warmup_lerp\n",
    "        if warmup_w > 1:\n",
    "            warmup_w=1.\n",
    "    \n",
    "    if epoch == 0:\n",
    "        continue\n",
    "            \n",
    "    # -- Plotting --\n",
    "    f, axarr = plt.subplots(2, 1, figsize=(10, 10))\n",
    "    \n",
    "    \n",
    "    # Loss\n",
    "    ax = axarr[0]\n",
    "    ax.set_title(\"ELBO\")\n",
    "    ax.set_xlabel('Epoch')\n",
    "    ax.set_ylabel('Error')\n",
    "\n",
    "    ax.plot(np.arange(epoch+1), train_loss, color=\"black\")\n",
    "    ax.plot(np.arange(epoch+1), valid_loss, color=\"gray\", linestyle=\"--\")\n",
    "    ax.legend(['Training', 'Validation'])\n",
    "    \n",
    "    \n",
    "    # KL / reconstruction\n",
    "    ax = axarr[1]\n",
    "    \n",
    "    ax.set_title(\"Kullback-Leibler Divergence\")\n",
    "    ax.set_xlabel('Epoch')\n",
    "    ax.set_ylabel('KL divergence')\n",
    "\n",
    "\n",
    "    ax.plot(np.arange(epoch+1), train_kl, color=\"black\")\n",
    "    ax.plot(np.arange(epoch+1), valid_kl, color=\"gray\", linestyle=\"--\")\n",
    "    ax.plot(np.arange(epoch+1), train_klw, color=\"blue\", linestyle=\"--\")\n",
    "    ax.legend(['Training', 'Validation','Weighted'])\n",
    "    \n",
    "    print(\"Epoch: {}, {} seconds elapsed\".format(epoch, time.time() - start))\n",
    "    \n",
    "    plt.savefig(tmp_img)\n",
    "    plt.close(f)\n",
    "    display(Image(filename=tmp_img))\n",
    "    \n",
    "    clear_output(wait=True)\n",
    "\n",
    "    os.remove(tmp_img)\n",
    "\n",
    "end_time = time.time() - start\n",
    "print(\"Finished. Time elapsed: {:4f} seconds\".format(end_time))"
   ]
  },
  {
   "cell_type": "markdown",
   "metadata": {},
   "source": [
    "## Reprint the graph but skip a few epochs"
   ]
  },
  {
   "cell_type": "code",
   "execution_count": 20,
   "metadata": {},
   "outputs": [
    {
     "name": "stdout",
     "output_type": "stream",
     "text": [
      "Can't skip more than epochs run.\n"
     ]
    },
    {
     "data": {
      "image/png": "[encoded data removed]",
      "text/plain": [
       "<IPython.core.display.Image object>"
      ]
     },
     "metadata": {},
     "output_type": "display_data"
    },
    {
     "name": "stdout",
     "output_type": "stream",
     "text": [
      "Time elapsed: 318.3318359851837 seconds\n",
      "-----\n",
      "Final KL. Train: 43.6104012703409, Validation: 45.086158752441406\n",
      "Final loss. Train: 793.255896743463, Validation: 775.2463989257812\n"
     ]
    }
   ],
   "source": [
    "skip = 5\n",
    "save_img = os.path.join(\"midi\",\"kl_elbo.png\")\n",
    "if skip > num_epochs:\n",
    "    print(\"Can't skip more than epochs run.\")\n",
    "    skip = 0\n",
    "\n",
    "f, axarr = plt.subplots(2, 1, figsize=(10, 10))\n",
    "    \n",
    "# Loss\n",
    "ax = axarr[0]\n",
    "ax.set_title(\"ELBO\")\n",
    "ax.set_xlabel('Epoch')\n",
    "ax.set_ylabel('Error')\n",
    "\n",
    "ax.plot(np.arange(skip, epoch+1), train_loss[skip:], color=\"black\")\n",
    "ax.plot(np.arange(skip, epoch+1), valid_loss[skip:], color=\"gray\", linestyle=\"--\")\n",
    "ax.legend(['Training', 'Validation'])\n",
    "\n",
    "# KL / reconstruction\n",
    "ax = axarr[1]\n",
    "\n",
    "ax.set_title(\"Kullback-Leibler Divergence\")\n",
    "ax.set_xlabel('Epoch')\n",
    "ax.set_ylabel('KL divergence')\n",
    "\n",
    "\n",
    "ax.plot(np.arange(skip, epoch+1), train_kl[skip:], color=\"black\")\n",
    "ax.plot(np.arange(skip, epoch+1), valid_kl[skip:], color=\"gray\", linestyle=\"--\")\n",
    "ax.legend(['Training', 'Validation'])\n",
    "\n",
    "plt.savefig(save_img)\n",
    "plt.close(f)\n",
    "display(Image(filename=save_img))\n",
    "\n",
    "print(\"Time elapsed: {} seconds\".format(end_time))\n",
    "\n",
    "print(\"-----\")\n",
    "\n",
    "print(\"Final KL. Train: {}, Validation: {}\".format(train_kl[-1], valid_kl[-1]))\n",
    "print(\"Final loss. Train: {}, Validation: {}\".format(train_loss[-1], valid_loss[-1]))"
   ]
  },
  {
   "cell_type": "markdown",
   "metadata": {},
   "source": [
    "## DRAFTS"
   ]
  },
  {
   "cell_type": "code",
   "execution_count": null,
   "metadata": {},
   "outputs": [],
   "source": [
    "encoder = Encoder(params).to(device)\n",
    "decoder = Decoder(params).to(device)"
   ]
  },
  {
   "cell_type": "code",
   "execution_count": null,
   "metadata": {},
   "outputs": [],
   "source": [
    "MusicVAE = VariationalAutoencoder(params)"
   ]
  },
  {
   "cell_type": "code",
   "execution_count": null,
   "metadata": {},
   "outputs": [],
   "source": []
  }
 ],
 "metadata": {
  "kernelspec": {
   "display_name": "Python 3",
   "language": "python",
   "name": "python3"
  },
  "language_info": {
   "codemirror_mode": {
    "name": "ipython",
    "version": 3
   },
   "file_extension": ".py",
   "mimetype": "text/x-python",
   "name": "python",
   "nbconvert_exporter": "python",
   "pygments_lexer": "ipython3",
   "version": "3.7.4"
  }
 },
 "nbformat": 4,
 "nbformat_minor": 2
}
