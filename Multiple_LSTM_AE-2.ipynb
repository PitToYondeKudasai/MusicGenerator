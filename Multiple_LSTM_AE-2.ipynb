{
  "nbformat": 4,
  "nbformat_minor": 0,
  "metadata": {
    "accelerator": "GPU",
    "colab": {
      "name": "Multiple_AE.ipynb",
      "provenance": [],
      "collapsed_sections": []
    },
    "kernelspec": {
      "display_name": "Python 3",
      "name": "python3"
    }
  },
  "cells": [
    {
      "cell_type": "markdown",
      "metadata": {
        "id": "cdAeBZVlTUmK"
      },
      "source": [
        "# LSTM AE\n",
        "Using a layer of LSTM in the decoder, we are able to learn longer sequences than before (for example here we are learning a sequence of length 30)."
      ]
    },
    {
      "cell_type": "code",
      "metadata": {
        "id": "yiaNNVZC4x4x"
      },
      "source": [
        "import numpy as np\n",
        "import pandas as pd\n",
        "import torch \n",
        "from torch import nn, optim\n",
        "import matplotlib.pyplot as plt\n",
        "import torch.nn.functional as F\n",
        "from sklearn.preprocessing import MinMaxScaler"
      ],
      "execution_count": null,
      "outputs": []
    },
    {
      "cell_type": "code",
      "metadata": {
        "id": "YRR5nFwF40uq"
      },
      "source": [
        "device = torch.device(\"cuda\" if torch.cuda.is_available() else \"cpu\")"
      ],
      "execution_count": null,
      "outputs": []
    },
    {
      "cell_type": "code",
      "metadata": {
        "id": "e818jIEJ428R"
      },
      "source": [
        "length_seq = 30\n",
        "n_sample = 800\n",
        "\n",
        "train_data = []\n",
        "samplerate = length_seq\n",
        "for i in range(n_sample):\n",
        "  fs1 = np.random.randint(samplerate)\n",
        "  fs2 = np.random.randint(samplerate)\n",
        "  t = np.linspace(0., 1., samplerate)\n",
        "  amplitude1 = np.iinfo(np.int16).max/10000\n",
        "  amplitude2 = np.iinfo(np.int16).max/20000\n",
        "  data1 = amplitude1 * np.sin(2. * np.pi * fs1 * t)\n",
        "  data2 = amplitude2 * np.sin(2. * np.pi * fs2 * t)\n",
        "  train_data.append(data1+data2)"
      ],
      "execution_count": null,
      "outputs": []
    },
    {
      "cell_type": "code",
      "metadata": {
        "id": "Yt2M4jQz45WE"
      },
      "source": [
        "train_data = np.array(train_data)\n",
        "train_data = pd.DataFrame(train_data)\n",
        "scaler = MinMaxScaler(feature_range=(0, 1))\n",
        "train_data_normalized = pd.DataFrame(scaler.fit_transform(train_data))"
      ],
      "execution_count": null,
      "outputs": []
    },
    {
      "cell_type": "code",
      "metadata": {
        "id": "4fP71Fnu47b8"
      },
      "source": [
        "def create_dataset(df):\n",
        "  sequences = df.astype(np.float32).to_numpy().tolist()\n",
        "  dataset = [torch.tensor(s).unsqueeze(1).float() for s in sequences]\n",
        "  n_seq, seq_len, n_features = torch.stack(dataset).shape\n",
        "  return dataset, seq_len, n_features"
      ],
      "execution_count": null,
      "outputs": []
    },
    {
      "cell_type": "code",
      "metadata": {
        "id": "D0jbD9vR4-sM"
      },
      "source": [
        "train_dataset, seq_len, n_features = create_dataset(train_data_normalized)"
      ],
      "execution_count": null,
      "outputs": []
    },
    {
      "cell_type": "code",
      "metadata": {
        "id": "c0b_ZeIc5AzJ"
      },
      "source": [
        "class Encoder(nn.Module):\n",
        "\n",
        "  def __init__(self, seq_len, n_features, embedding_dim = 64):\n",
        "    super(Encoder, self).__init__()\n",
        "\n",
        "    self.seq_len, self.n_features = seq_len, n_features\n",
        "    self.embedding_dim, self.hidden_dim = embedding_dim, 2 * embedding_dim\n",
        "\n",
        "    self.rnn1 = nn.LSTM(\n",
        "      input_size=n_features,\n",
        "      hidden_size=self.hidden_dim,\n",
        "      num_layers=1,\n",
        "      batch_first = True,\n",
        "      bidirectional = True\n",
        "    )   \n",
        "    self.rnn2 = nn.LSTM(\n",
        "      input_size= 2 * self.hidden_dim,\n",
        "      hidden_size=embedding_dim,\n",
        "      num_layers=1,\n",
        "      batch_first=True,\n",
        "      bidirectional = True\n",
        "    )\n",
        "    self.l1 = nn.Linear(2 * self.embedding_dim, self.embedding_dim)\n",
        "\n",
        "  def forward(self, x):\n",
        "    x = x.reshape((1, self.seq_len, self.n_features))\n",
        "\n",
        "    x, (_, _) = self.rnn1(x)\n",
        "    x, (hidden_n, _) = self.rnn2(x)\n",
        "    out = hidden_n.reshape((self.n_features, 2 * self.embedding_dim))\n",
        "    return self.l1(out)"
      ],
      "execution_count": null,
      "outputs": []
    },
    {
      "cell_type": "code",
      "metadata": {
        "id": "JEvUg22J5Cz1"
      },
      "source": [
        "class Decoder(nn.Module):\n",
        "\n",
        "  def __init__(self, seq_len, input_dim = 64, n_features = 1):\n",
        "    super(Decoder, self).__init__()\n",
        "\n",
        "    self.seq_len, self.input_dim = seq_len, input_dim\n",
        "    self.hidden_dim, self.n_features = 2 * input_dim, n_features\n",
        "\n",
        "    self.rnn1_layer1 = nn.LSTM(\n",
        "      input_size=input_dim,\n",
        "      hidden_size=input_dim,\n",
        "      num_layers=1,\n",
        "      batch_first=True\n",
        "    )\n",
        "\n",
        "    self.rnn1_layer2 = nn.LSTM(\n",
        "      input_size= input_dim,\n",
        "      hidden_size=self.hidden_dim,\n",
        "      num_layers=1,\n",
        "      batch_first=True\n",
        "    )\n",
        "    self.rnn2_layer2 = nn.LSTM(\n",
        "      input_size=input_dim,\n",
        "      hidden_size=self.hidden_dim,\n",
        "      num_layers=1,\n",
        "      batch_first=True\n",
        "    )\n",
        "    self.rnn3_layer2 = nn.LSTM(\n",
        "      input_size=input_dim,\n",
        "      hidden_size=self.hidden_dim,\n",
        "      num_layers=1,\n",
        "      batch_first=True\n",
        "    )\n",
        "\n",
        "    self.output_layer = nn.Linear(3 * self.hidden_dim, n_features)\n",
        "\n",
        "  def forward(self, x):\n",
        "    x = x.repeat(self.seq_len, self.n_features)\n",
        "    x = x.reshape((self.n_features, self.seq_len, self.input_dim))\n",
        "\n",
        "    x, (hidden_n, cell_n) = self.rnn1_layer1(x)\n",
        "    x1, (hidden_n, cell_n) = self.rnn1_layer2(x)\n",
        "    x2, (hidden_n, cell_n) = self.rnn2_layer2(x)\n",
        "    x3, (hidden_n, cell_n) = self.rnn3_layer2(x)\n",
        "    x1 = x1.reshape((self.seq_len, self.hidden_dim))\n",
        "    x2 = x2.reshape((self.seq_len, self.hidden_dim))\n",
        "    x3 = x3.reshape((self.seq_len, self.hidden_dim))\n",
        "    x = torch.cat((x1, x2, x3), 1)\n",
        "    \n",
        "    return self.output_layer(x)"
      ],
      "execution_count": null,
      "outputs": []
    },
    {
      "cell_type": "code",
      "metadata": {
        "id": "1kmvRaUv5FoV"
      },
      "source": [
        "class RecurrentAutoencoder(nn.Module):\n",
        "\n",
        "  def __init__(self, seq_len, n_features, embedding_dim=64):\n",
        "    super(RecurrentAutoencoder, self).__init__()\n",
        "\n",
        "    self.encoder = Encoder(seq_len, n_features, embedding_dim).to(device)\n",
        "    self.decoder = Decoder(seq_len, embedding_dim, n_features).to(device)\n",
        "\n",
        "  def forward(self, x):\n",
        "    x = self.encoder(x)\n",
        "    x = self.decoder(x)\n",
        "\n",
        "    return x"
      ],
      "execution_count": null,
      "outputs": []
    },
    {
      "cell_type": "code",
      "metadata": {
        "id": "Q8W65-aa5IDp"
      },
      "source": [
        "model = RecurrentAutoencoder(seq_len, n_features, 10)\n",
        "model = model.to(device)"
      ],
      "execution_count": null,
      "outputs": []
    },
    {
      "cell_type": "code",
      "metadata": {
        "id": "mAnclPg18Imr"
      },
      "source": [
        "seq_true = train_dataset[0]\n",
        "seq_true = seq_true.to(device)\n",
        "seq_pred = model(seq_true)"
      ],
      "execution_count": null,
      "outputs": []
    },
    {
      "cell_type": "code",
      "metadata": {
        "id": "PBtA4OkI5drc"
      },
      "source": [
        "def train_model(model, train_dataset, val_dataset, n_epochs):\n",
        "  optimizer = torch.optim.Adam(model.parameters(), lr=1e-3)\n",
        "  criterion = nn.L1Loss(reduction='sum').to(device)\n",
        "  history = dict(train=[], val=[])\n",
        "\n",
        "  best_model_wts = copy.deepcopy(model.state_dict())\n",
        "  best_loss = 10000.0\n",
        "  \n",
        "  for epoch in range(1, n_epochs + 1):\n",
        "    model = model.train()\n",
        "\n",
        "    train_losses = []\n",
        "    for seq_true in train_dataset:\n",
        "      optimizer.zero_grad()\n",
        "\n",
        "      seq_true = seq_true.to(device)\n",
        "      seq_pred = model(seq_true)\n",
        "\n",
        "      loss = criterion(seq_pred, seq_true)\n",
        "\n",
        "      loss.backward()\n",
        "      optimizer.step()\n",
        "\n",
        "      train_losses.append(loss.item())\n",
        "\n",
        "    val_losses = []\n",
        "    model = model.eval()\n",
        "    with torch.no_grad():\n",
        "      for seq_true in val_dataset:\n",
        "\n",
        "        seq_true = seq_true.to(device)\n",
        "        seq_pred = model(seq_true)\n",
        "\n",
        "        loss = criterion(seq_pred, seq_true)\n",
        "        val_losses.append(loss.item())\n",
        "\n",
        "    train_loss = np.mean(train_losses)\n",
        "    val_loss = np.mean(val_losses)\n",
        "\n",
        "    history['train'].append(train_loss)\n",
        "    history['val'].append(val_loss)\n",
        "\n",
        "    if val_loss < best_loss:\n",
        "      best_loss = val_loss\n",
        "      best_model_wts = copy.deepcopy(model.state_dict())\n",
        "\n",
        "    print(f'Epoch {epoch}: train loss {train_loss} val loss {val_loss}')\n",
        "\n",
        "  model.load_state_dict(best_model_wts)\n",
        "  return model.eval(), history"
      ],
      "execution_count": null,
      "outputs": []
    },
    {
      "cell_type": "code",
      "metadata": {
        "id": "E0dOsAtc5gH0",
        "outputId": "789a530d-110f-4ac3-99e9-a31527fab8a4",
        "colab": {
          "base_uri": "https://localhost:8080/"
        }
      },
      "source": [
        "import copy\n",
        "model, history = train_model(\n",
        "  model, \n",
        "  train_dataset, \n",
        "  train_dataset, \n",
        "  n_epochs = 50\n",
        ")"
      ],
      "execution_count": null,
      "outputs": [
        {
          "output_type": "stream",
          "text": [
            "Epoch 1: train loss 6.724267449229956 val loss 6.494776812046767\n",
            "Epoch 2: train loss 6.4399580514431 val loss 6.409250004664063\n",
            "Epoch 3: train loss 6.370921111404896 val loss 6.246801765933633\n",
            "Epoch 4: train loss 6.2196788094937805 val loss 6.531630664542317\n",
            "Epoch 5: train loss 6.202584043070674 val loss 6.119404499456286\n",
            "Epoch 6: train loss 6.115149865448475 val loss 6.06137201949954\n",
            "Epoch 7: train loss 6.008676980435848 val loss 5.968113323152065\n",
            "Epoch 8: train loss 5.975325864255428 val loss 5.895581849813461\n",
            "Epoch 9: train loss 5.940126416236162 val loss 5.962649250775575\n",
            "Epoch 10: train loss 5.905192155614495 val loss 5.831590254753828\n",
            "Epoch 11: train loss 5.843826935663819 val loss 5.787138670235873\n",
            "Epoch 12: train loss 5.75208481259644 val loss 5.729607488140464\n",
            "Epoch 13: train loss 5.738804613053799 val loss 5.640067381113767\n",
            "Epoch 14: train loss 5.642627078294754 val loss 5.660716375857592\n",
            "Epoch 15: train loss 5.6015058355778455 val loss 5.483116662427783\n",
            "Epoch 16: train loss 5.47553107701242 val loss 5.474391968548298\n",
            "Epoch 17: train loss 5.430283698439598 val loss 5.2966779946535825\n",
            "Epoch 18: train loss 5.446514730975032 val loss 5.388831021338701\n",
            "Epoch 19: train loss 5.32935196660459 val loss 5.48355804041028\n",
            "Epoch 20: train loss 5.278743854090571 val loss 5.270633001476527\n",
            "Epoch 21: train loss 5.228566273227334 val loss 5.267194395437837\n",
            "Epoch 22: train loss 5.146483361423016 val loss 5.028312732875347\n",
            "Epoch 23: train loss 5.101385350599885 val loss 5.126129840910434\n",
            "Epoch 24: train loss 5.044117886349559 val loss 5.101588102430105\n",
            "Epoch 25: train loss 4.950052361264825 val loss 4.81197542488575\n",
            "Epoch 26: train loss 4.87042975731194 val loss 4.8485431818664075\n",
            "Epoch 27: train loss 4.785107333734632 val loss 4.757286011725665\n",
            "Epoch 28: train loss 4.824899787530303 val loss 4.640175995454192\n",
            "Epoch 29: train loss 4.7286434312164785 val loss 4.77522878870368\n",
            "Epoch 30: train loss 4.780861523896456 val loss 4.591849018931389\n",
            "Epoch 31: train loss 4.586215138062835 val loss 4.616228097826243\n",
            "Epoch 32: train loss 4.489135672152043 val loss 4.233870904147625\n",
            "Epoch 33: train loss 4.7015666400641205 val loss 4.718410240858793\n",
            "Epoch 34: train loss 4.874434645995498 val loss 4.895828231722117\n",
            "Epoch 35: train loss 4.723329052329063 val loss 4.509947410523892\n",
            "Epoch 36: train loss 4.67597117036581 val loss 4.658185478299856\n",
            "Epoch 37: train loss 4.6632414877414705 val loss 4.30804055698216\n",
            "Epoch 38: train loss 4.601670565754175 val loss 4.381188024580479\n",
            "Epoch 39: train loss 4.4658335158228875 val loss 4.418947899192571\n",
            "Epoch 40: train loss 4.481683919653296 val loss 4.631660913676024\n",
            "Epoch 41: train loss 4.343078987747431 val loss 4.378547269552946\n",
            "Epoch 42: train loss 4.739174252003432 val loss 4.617027929723263\n",
            "Epoch 43: train loss 5.236721486598253 val loss 5.165464412048459\n",
            "Epoch 44: train loss 5.283608997315168 val loss 5.529217204600573\n",
            "Epoch 45: train loss 4.878847226724028 val loss 4.399844230264425\n",
            "Epoch 46: train loss 4.473877456635237 val loss 4.208299940824508\n",
            "Epoch 47: train loss 4.373071518912911 val loss 5.074881326705217\n",
            "Epoch 48: train loss 5.6076733450591565 val loss 5.854847167283297\n",
            "Epoch 49: train loss 5.829108925610781 val loss 5.8270023712515835\n",
            "Epoch 50: train loss 5.685430339500308 val loss 5.5081355001032355\n"
          ],
          "name": "stdout"
        }
      ]
    },
    {
      "cell_type": "code",
      "metadata": {
        "id": "rbIiMAmw5u-U",
        "outputId": "357205a2-bbec-416b-c838-a259f0087a81",
        "colab": {
          "base_uri": "https://localhost:8080/",
          "height": 295
        }
      },
      "source": [
        "ax = plt.figure().gca()\n",
        "\n",
        "ax.plot(history['train'])\n",
        "ax.plot(history['val'])\n",
        "plt.ylabel('Loss')\n",
        "plt.xlabel('Epoch')\n",
        "plt.legend(['train', 'test'])\n",
        "plt.title('Loss over training epochs')\n",
        "plt.show();"
      ],
      "execution_count": null,
      "outputs": [
        {
          "output_type": "display_data",
          "data": {
            "image/png": "[encoded data removed]",
            "text/plain": [
              "<Figure size 432x288 with 1 Axes>"
            ]
          },
          "metadata": {
            "tags": [],
            "needs_background": "light"
          }
        }
      ]
    },
    {
      "cell_type": "code",
      "metadata": {
        "id": "csxO5H3E5iIr"
      },
      "source": [
        "test_seq = train_dataset[10]\n",
        "test_seq = test_seq.to(device)\n",
        "seq_pred = model(test_seq)"
      ],
      "execution_count": null,
      "outputs": []
    },
    {
      "cell_type": "code",
      "metadata": {
        "id": "3pnHhWxA5qpY",
        "outputId": "b63d0965-1219-4f6f-923d-c7b3a63ed920",
        "colab": {
          "base_uri": "https://localhost:8080/",
          "height": 282
        }
      },
      "source": [
        "ax = plt.figure().gca()\n",
        "\n",
        "ax.plot(seq_pred.cpu().detach().numpy())\n",
        "ax.plot(test_seq.cpu().detach().numpy())\n",
        "plt.legend(['pred', 'real'])"
      ],
      "execution_count": null,
      "outputs": [
        {
          "output_type": "execute_result",
          "data": {
            "text/plain": [
              "<matplotlib.legend.Legend at 0x7fcf901e5b38>"
            ]
          },
          "metadata": {
            "tags": []
          },
          "execution_count": 18
        },
        {
          "output_type": "display_data",
          "data": {
            "image/png": "[encoded data removed]",
            "text/plain": [
              "<Figure size 432x288 with 1 Axes>"
            ]
          },
          "metadata": {
            "tags": [],
            "needs_background": "light"
          }
        }
      ]
    },
    {
      "cell_type": "code",
      "metadata": {
        "id": "LQCfpFQ9PCYC"
      },
      "source": [
        ""
      ],
      "execution_count": null,
      "outputs": []
    }
  ]
}