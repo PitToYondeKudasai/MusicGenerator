{
  "nbformat": 4,
  "nbformat_minor": 0,
  "metadata": {
    "colab": {
      "name": "Untitled14.ipynb",
      "provenance": [],
      "collapsed_sections": []
    },
    "kernelspec": {
      "name": "python3",
      "display_name": "Python 3"
    }
  },
  "cells": [
    {
      "cell_type": "code",
      "metadata": {
        "id": "azbelFCKtdXp"
      },
      "source": [
        "import numpy as np\n",
        "import pandas as pd\n",
        "import torch \n",
        "from torch import nn, optim\n",
        "import matplotlib.pyplot as plt\n",
        "import torch.nn.functional as F\n",
        "from sklearn.preprocessing import MinMaxScaler"
      ],
      "execution_count": 156,
      "outputs": []
    },
    {
      "cell_type": "markdown",
      "metadata": {
        "id": "Z-DMTeQaw1Zs"
      },
      "source": [
        "We create a dataset of harmonic sequences "
      ]
    },
    {
      "cell_type": "code",
      "metadata": {
        "id": "EM5NqGGgzeZ4"
      },
      "source": [
        "length_seq = 20\n",
        "n_sample = 400"
      ],
      "execution_count": 138,
      "outputs": []
    },
    {
      "cell_type": "code",
      "metadata": {
        "id": "pZ5FwGK6t2tn"
      },
      "source": [
        "train_data = []\n",
        "samplerate = length_seq\n",
        "for i in range(n_sample):\n",
        "  fs1 = np.random.randint(samplerate)\n",
        "  fs2 = np.random.randint(samplerate)\n",
        "  t = np.linspace(0., 1., samplerate)\n",
        "  amplitude1 = np.iinfo(np.int16).max/10000\n",
        "  amplitude2 = np.iinfo(np.int16).max/20000\n",
        "  data1 = amplitude1 * np.sin(2. * np.pi * fs1 * t)\n",
        "  data2 = amplitude2 * np.sin(2. * np.pi * fs2 * t)\n",
        "  train_data.append(data1+data2)"
      ],
      "execution_count": 139,
      "outputs": []
    },
    {
      "cell_type": "code",
      "metadata": {
        "id": "HJdxybsizXzO"
      },
      "source": [
        "train_data = np.array(train_data)"
      ],
      "execution_count": 140,
      "outputs": []
    },
    {
      "cell_type": "code",
      "metadata": {
        "id": "gNd-7WlLt6ha",
        "outputId": "ce89c229-4676-4598-bc5e-53be76d91355",
        "colab": {
          "base_uri": "https://localhost:8080/",
          "height": 282
        }
      },
      "source": [
        "plt.plot(train_data[0])"
      ],
      "execution_count": 141,
      "outputs": [
        {
          "output_type": "execute_result",
          "data": {
            "text/plain": [
              "[<matplotlib.lines.Line2D at 0x7fd556a8b278>]"
            ]
          },
          "metadata": {
            "tags": []
          },
          "execution_count": 141
        },
        {
          "output_type": "display_data",
          "data": {
            "image/png": "[encoded data removed]",
            "text/plain": [
              "<Figure size 432x288 with 1 Axes>"
            ]
          },
          "metadata": {
            "tags": [],
            "needs_background": "light"
          }
        }
      ]
    },
    {
      "cell_type": "code",
      "metadata": {
        "id": "zW5usyPAy-H5"
      },
      "source": [
        "#train_data = pd.DataFrame(np.transpose(train_data))\n",
        "train_data = pd.DataFrame(train_data)"
      ],
      "execution_count": 142,
      "outputs": []
    },
    {
      "cell_type": "code",
      "metadata": {
        "id": "OXP_4-HLt8B0"
      },
      "source": [
        "scaler = MinMaxScaler(feature_range=(0, 1))\n",
        "train_data_normalized = pd.DataFrame(scaler.fit_transform(train_data))"
      ],
      "execution_count": 143,
      "outputs": []
    },
    {
      "cell_type": "code",
      "metadata": {
        "id": "hAePQMnRxqdh",
        "outputId": "6320aa5e-6189-434e-a2a4-30548b0dc308",
        "colab": {
          "base_uri": "https://localhost:8080/",
          "height": 439
        }
      },
      "source": [
        "train_data_normalized"
      ],
      "execution_count": 144,
      "outputs": [
        {
          "output_type": "execute_result",
          "data": {
            "text/html": [
              "<div>\n",
              "<style scoped>\n",
              "    .dataframe tbody tr th:only-of-type {\n",
              "        vertical-align: middle;\n",
              "    }\n",
              "\n",
              "    .dataframe tbody tr th {\n",
              "        vertical-align: top;\n",
              "    }\n",
              "\n",
              "    .dataframe thead th {\n",
              "        text-align: right;\n",
              "    }\n",
              "</style>\n",
              "<table border=\"1\" class=\"dataframe\">\n",
              "  <thead>\n",
              "    <tr style=\"text-align: right;\">\n",
              "      <th></th>\n",
              "      <th>0</th>\n",
              "      <th>1</th>\n",
              "      <th>2</th>\n",
              "      <th>3</th>\n",
              "      <th>4</th>\n",
              "      <th>5</th>\n",
              "      <th>6</th>\n",
              "      <th>7</th>\n",
              "      <th>8</th>\n",
              "      <th>9</th>\n",
              "      <th>10</th>\n",
              "      <th>11</th>\n",
              "      <th>12</th>\n",
              "      <th>13</th>\n",
              "      <th>14</th>\n",
              "      <th>15</th>\n",
              "      <th>16</th>\n",
              "      <th>17</th>\n",
              "      <th>18</th>\n",
              "      <th>19</th>\n",
              "    </tr>\n",
              "  </thead>\n",
              "  <tbody>\n",
              "    <tr>\n",
              "      <th>0</th>\n",
              "      <td>0.0</td>\n",
              "      <td>0.732966</td>\n",
              "      <td>0.768888</td>\n",
              "      <td>0.889946</td>\n",
              "      <td>0.556991</td>\n",
              "      <td>0.567988</td>\n",
              "      <td>0.113912</td>\n",
              "      <td>0.319819</td>\n",
              "      <td>0.053565</td>\n",
              "      <td>0.561170</td>\n",
              "      <td>0.438830</td>\n",
              "      <td>0.946435</td>\n",
              "      <td>0.680181</td>\n",
              "      <td>0.886088</td>\n",
              "      <td>0.432012</td>\n",
              "      <td>0.443009</td>\n",
              "      <td>0.110054</td>\n",
              "      <td>0.231112</td>\n",
              "      <td>0.267034</td>\n",
              "      <td>0.696745</td>\n",
              "    </tr>\n",
              "    <tr>\n",
              "      <th>1</th>\n",
              "      <td>0.0</td>\n",
              "      <td>0.581078</td>\n",
              "      <td>0.758644</td>\n",
              "      <td>0.703614</td>\n",
              "      <td>0.930878</td>\n",
              "      <td>0.710292</td>\n",
              "      <td>0.946310</td>\n",
              "      <td>0.592930</td>\n",
              "      <td>0.820497</td>\n",
              "      <td>0.389147</td>\n",
              "      <td>0.610853</td>\n",
              "      <td>0.179503</td>\n",
              "      <td>0.407070</td>\n",
              "      <td>0.053690</td>\n",
              "      <td>0.289708</td>\n",
              "      <td>0.069122</td>\n",
              "      <td>0.296386</td>\n",
              "      <td>0.241356</td>\n",
              "      <td>0.418922</td>\n",
              "      <td>0.702062</td>\n",
              "    </tr>\n",
              "    <tr>\n",
              "      <th>2</th>\n",
              "      <td>0.0</td>\n",
              "      <td>0.507474</td>\n",
              "      <td>0.751355</td>\n",
              "      <td>0.004567</td>\n",
              "      <td>0.863915</td>\n",
              "      <td>0.447713</td>\n",
              "      <td>0.475456</td>\n",
              "      <td>0.468598</td>\n",
              "      <td>0.353700</td>\n",
              "      <td>0.955771</td>\n",
              "      <td>0.044229</td>\n",
              "      <td>0.646300</td>\n",
              "      <td>0.531402</td>\n",
              "      <td>0.524544</td>\n",
              "      <td>0.552287</td>\n",
              "      <td>0.136085</td>\n",
              "      <td>0.995433</td>\n",
              "      <td>0.248645</td>\n",
              "      <td>0.492526</td>\n",
              "      <td>0.313782</td>\n",
              "    </tr>\n",
              "    <tr>\n",
              "      <th>3</th>\n",
              "      <td>0.0</td>\n",
              "      <td>0.499249</td>\n",
              "      <td>0.710005</td>\n",
              "      <td>0.483009</td>\n",
              "      <td>0.870932</td>\n",
              "      <td>0.420585</td>\n",
              "      <td>0.933164</td>\n",
              "      <td>0.316737</td>\n",
              "      <td>0.903398</td>\n",
              "      <td>0.192269</td>\n",
              "      <td>0.807731</td>\n",
              "      <td>0.096602</td>\n",
              "      <td>0.683263</td>\n",
              "      <td>0.066836</td>\n",
              "      <td>0.579415</td>\n",
              "      <td>0.129068</td>\n",
              "      <td>0.516991</td>\n",
              "      <td>0.289995</td>\n",
              "      <td>0.500751</td>\n",
              "      <td>0.654206</td>\n",
              "    </tr>\n",
              "    <tr>\n",
              "      <th>4</th>\n",
              "      <td>0.0</td>\n",
              "      <td>0.785036</td>\n",
              "      <td>0.682793</td>\n",
              "      <td>0.977414</td>\n",
              "      <td>0.506096</td>\n",
              "      <td>0.547667</td>\n",
              "      <td>0.226392</td>\n",
              "      <td>0.112365</td>\n",
              "      <td>0.340029</td>\n",
              "      <td>0.227837</td>\n",
              "      <td>0.772163</td>\n",
              "      <td>0.659971</td>\n",
              "      <td>0.887635</td>\n",
              "      <td>0.773608</td>\n",
              "      <td>0.452333</td>\n",
              "      <td>0.493904</td>\n",
              "      <td>0.022586</td>\n",
              "      <td>0.317207</td>\n",
              "      <td>0.214964</td>\n",
              "      <td>0.702062</td>\n",
              "    </tr>\n",
              "    <tr>\n",
              "      <th>...</th>\n",
              "      <td>...</td>\n",
              "      <td>...</td>\n",
              "      <td>...</td>\n",
              "      <td>...</td>\n",
              "      <td>...</td>\n",
              "      <td>...</td>\n",
              "      <td>...</td>\n",
              "      <td>...</td>\n",
              "      <td>...</td>\n",
              "      <td>...</td>\n",
              "      <td>...</td>\n",
              "      <td>...</td>\n",
              "      <td>...</td>\n",
              "      <td>...</td>\n",
              "      <td>...</td>\n",
              "      <td>...</td>\n",
              "      <td>...</td>\n",
              "      <td>...</td>\n",
              "      <td>...</td>\n",
              "      <td>...</td>\n",
              "    </tr>\n",
              "    <tr>\n",
              "      <th>395</th>\n",
              "      <td>0.0</td>\n",
              "      <td>0.608604</td>\n",
              "      <td>0.704094</td>\n",
              "      <td>0.783574</td>\n",
              "      <td>0.827216</td>\n",
              "      <td>0.833333</td>\n",
              "      <td>0.806304</td>\n",
              "      <td>0.746082</td>\n",
              "      <td>0.657636</td>\n",
              "      <td>0.558119</td>\n",
              "      <td>0.441881</td>\n",
              "      <td>0.342364</td>\n",
              "      <td>0.253918</td>\n",
              "      <td>0.193696</td>\n",
              "      <td>0.166667</td>\n",
              "      <td>0.172784</td>\n",
              "      <td>0.216426</td>\n",
              "      <td>0.295906</td>\n",
              "      <td>0.391396</td>\n",
              "      <td>0.755237</td>\n",
              "    </tr>\n",
              "    <tr>\n",
              "      <th>396</th>\n",
              "      <td>0.0</td>\n",
              "      <td>0.936053</td>\n",
              "      <td>0.605273</td>\n",
              "      <td>0.330413</td>\n",
              "      <td>0.689927</td>\n",
              "      <td>0.778778</td>\n",
              "      <td>0.217766</td>\n",
              "      <td>0.053321</td>\n",
              "      <td>0.563449</td>\n",
              "      <td>0.696736</td>\n",
              "      <td>0.303264</td>\n",
              "      <td>0.436551</td>\n",
              "      <td>0.946679</td>\n",
              "      <td>0.782234</td>\n",
              "      <td>0.221222</td>\n",
              "      <td>0.310073</td>\n",
              "      <td>0.669587</td>\n",
              "      <td>0.394727</td>\n",
              "      <td>0.063947</td>\n",
              "      <td>0.702062</td>\n",
              "    </tr>\n",
              "    <tr>\n",
              "      <th>397</th>\n",
              "      <td>0.0</td>\n",
              "      <td>0.415047</td>\n",
              "      <td>0.234765</td>\n",
              "      <td>0.634551</td>\n",
              "      <td>0.416846</td>\n",
              "      <td>0.908202</td>\n",
              "      <td>0.274290</td>\n",
              "      <td>0.703584</td>\n",
              "      <td>0.004567</td>\n",
              "      <td>0.759550</td>\n",
              "      <td>0.240450</td>\n",
              "      <td>0.995433</td>\n",
              "      <td>0.296416</td>\n",
              "      <td>0.725710</td>\n",
              "      <td>0.091798</td>\n",
              "      <td>0.583154</td>\n",
              "      <td>0.365449</td>\n",
              "      <td>0.765235</td>\n",
              "      <td>0.584953</td>\n",
              "      <td>0.585079</td>\n",
              "    </tr>\n",
              "    <tr>\n",
              "      <th>398</th>\n",
              "      <td>0.0</td>\n",
              "      <td>0.500000</td>\n",
              "      <td>0.497717</td>\n",
              "      <td>0.502283</td>\n",
              "      <td>0.500000</td>\n",
              "      <td>0.500000</td>\n",
              "      <td>0.500000</td>\n",
              "      <td>0.500000</td>\n",
              "      <td>0.497717</td>\n",
              "      <td>0.502305</td>\n",
              "      <td>0.497695</td>\n",
              "      <td>0.502283</td>\n",
              "      <td>0.500000</td>\n",
              "      <td>0.500000</td>\n",
              "      <td>0.500000</td>\n",
              "      <td>0.500000</td>\n",
              "      <td>0.497717</td>\n",
              "      <td>0.502283</td>\n",
              "      <td>0.500000</td>\n",
              "      <td>0.510581</td>\n",
              "    </tr>\n",
              "    <tr>\n",
              "      <th>399</th>\n",
              "      <td>0.0</td>\n",
              "      <td>0.611614</td>\n",
              "      <td>0.579164</td>\n",
              "      <td>0.179503</td>\n",
              "      <td>0.762125</td>\n",
              "      <td>0.407070</td>\n",
              "      <td>0.700415</td>\n",
              "      <td>0.053690</td>\n",
              "      <td>0.926627</td>\n",
              "      <td>0.289104</td>\n",
              "      <td>0.710896</td>\n",
              "      <td>0.073373</td>\n",
              "      <td>0.946310</td>\n",
              "      <td>0.299585</td>\n",
              "      <td>0.592930</td>\n",
              "      <td>0.237875</td>\n",
              "      <td>0.820497</td>\n",
              "      <td>0.420836</td>\n",
              "      <td>0.388386</td>\n",
              "      <td>0.632936</td>\n",
              "    </tr>\n",
              "  </tbody>\n",
              "</table>\n",
              "<p>400 rows × 20 columns</p>\n",
              "</div>"
            ],
            "text/plain": [
              "      0         1         2         3   ...        16        17        18        19\n",
              "0    0.0  0.732966  0.768888  0.889946  ...  0.110054  0.231112  0.267034  0.696745\n",
              "1    0.0  0.581078  0.758644  0.703614  ...  0.296386  0.241356  0.418922  0.702062\n",
              "2    0.0  0.507474  0.751355  0.004567  ...  0.995433  0.248645  0.492526  0.313782\n",
              "3    0.0  0.499249  0.710005  0.483009  ...  0.516991  0.289995  0.500751  0.654206\n",
              "4    0.0  0.785036  0.682793  0.977414  ...  0.022586  0.317207  0.214964  0.702062\n",
              "..   ...       ...       ...       ...  ...       ...       ...       ...       ...\n",
              "395  0.0  0.608604  0.704094  0.783574  ...  0.216426  0.295906  0.391396  0.755237\n",
              "396  0.0  0.936053  0.605273  0.330413  ...  0.669587  0.394727  0.063947  0.702062\n",
              "397  0.0  0.415047  0.234765  0.634551  ...  0.365449  0.765235  0.584953  0.585079\n",
              "398  0.0  0.500000  0.497717  0.502283  ...  0.497717  0.502283  0.500000  0.510581\n",
              "399  0.0  0.611614  0.579164  0.179503  ...  0.820497  0.420836  0.388386  0.632936\n",
              "\n",
              "[400 rows x 20 columns]"
            ]
          },
          "metadata": {
            "tags": []
          },
          "execution_count": 144
        }
      ]
    },
    {
      "cell_type": "code",
      "metadata": {
        "id": "nVj-d4uR4GYK"
      },
      "source": [
        "def create_dataset(df):\n",
        "  sequences = df.astype(np.float32).to_numpy().tolist()\n",
        "  dataset = [torch.tensor(s).unsqueeze(1).float() for s in sequences]\n",
        "  n_seq, seq_len, n_features = torch.stack(dataset).shape\n",
        "  return dataset, seq_len, n_features"
      ],
      "execution_count": 145,
      "outputs": []
    },
    {
      "cell_type": "code",
      "metadata": {
        "id": "tjlkpu2i4J3x"
      },
      "source": [
        "train_dataset, seq_len, n_features = create_dataset(train_data_normalized)"
      ],
      "execution_count": 146,
      "outputs": []
    },
    {
      "cell_type": "code",
      "metadata": {
        "id": "kI6e9Uhp4xrB",
        "outputId": "3287adee-203e-4af0-8220-f1f12b3cad6b",
        "colab": {
          "base_uri": "https://localhost:8080/",
          "height": 282
        }
      },
      "source": [
        "plt.plot(train_dataset[0])"
      ],
      "execution_count": 147,
      "outputs": [
        {
          "output_type": "execute_result",
          "data": {
            "text/plain": [
              "[<matplotlib.lines.Line2D at 0x7fd556ba8a20>]"
            ]
          },
          "metadata": {
            "tags": []
          },
          "execution_count": 147
        },
        {
          "output_type": "display_data",
          "data": {
            "image/png": "[encoded data removed]",
            "text/plain": [
              "<Figure size 432x288 with 1 Axes>"
            ]
          },
          "metadata": {
            "tags": [],
            "needs_background": "light"
          }
        }
      ]
    },
    {
      "cell_type": "markdown",
      "metadata": {
        "id": "aWEtQU2S2rkO"
      },
      "source": [
        "## Encoder"
      ]
    },
    {
      "cell_type": "code",
      "metadata": {
        "id": "yuwsnhuq2M01"
      },
      "source": [
        "class Encoder(nn.Module):\n",
        "\n",
        "  def __init__(self, seq_len, n_features, embedding_dim = 64, latent_dim = 10):\n",
        "    super(Encoder, self).__init__()\n",
        "\n",
        "    self.seq_len, self.n_features = seq_len, n_features\n",
        "    self.embedding_dim, self.hidden_dim = embedding_dim, 2 * embedding_dim\n",
        "    self.latent_dim = latent_dim\n",
        "\n",
        "    self.rnn1 = nn.LSTM(\n",
        "      input_size = n_features,         # 1\n",
        "      hidden_size = self.hidden_dim,   # 128\n",
        "      num_layers = 1,\n",
        "      batch_first = True\n",
        "    )\n",
        "    \n",
        "    self.rnn2 = nn.LSTM(\n",
        "      input_size = self.hidden_dim,    # 128\n",
        "      hidden_size = embedding_dim,     # 64\n",
        "      num_layers = 1,\n",
        "      batch_first = True\n",
        "    )\n",
        "\n",
        "    self.l1 = nn.Linear(embedding_dim, 2 * latent_dim)  # 64x20\n",
        "    self.mu = nn.Linear(2 * latent_dim, latent_dim)     # 20x10\n",
        "    self.logvar = nn.Linear(2 * latent_dim, latent_dim) # 20x10\n",
        "\n",
        "  def sample(self, mu, logvar):\n",
        "      std = torch.exp(0.5*logvar)\n",
        "      eps = torch.randn_like(std)\n",
        "      return mu + eps*std\n",
        "\n",
        "  def forward(self, x):\n",
        "    x = x.reshape((1, self.seq_len, self.n_features))\n",
        "\n",
        "    x, (_, _) = self.rnn1(x)\n",
        "    x, (hidden_n, _) = self.rnn2(x)\n",
        "    hidden_n = torch.tanh(self.l1(hidden_n))\n",
        "    mu = self.mu(hidden_n).reshape(((self.n_features, self.latent_dim)))\n",
        "    logvar = self.logvar(hidden_n).reshape(((self.n_features, self.latent_dim)))\n",
        "\n",
        "    sample = self.sample(mu, logvar)\n",
        "\n",
        "    return self.sample(mu, logvar), mu, logvar"
      ],
      "execution_count": 148,
      "outputs": []
    },
    {
      "cell_type": "markdown",
      "metadata": {
        "id": "-BUIcCF42vd9"
      },
      "source": [
        "# Decoder"
      ]
    },
    {
      "cell_type": "code",
      "metadata": {
        "id": "k6a1zgyE2we_"
      },
      "source": [
        "class Decoder(nn.Module):\n",
        "\n",
        "  def __init__(self, seq_len, input_dim = 10, n_features = 1, embedding_dim = 64):\n",
        "    super(Decoder, self).__init__()\n",
        "\n",
        "    self.seq_len, self.input_dim = seq_len, input_dim\n",
        "    self.hidden_dim, self.n_features = 2 * embedding_dim, n_features\n",
        "\n",
        "    self.rnn1 = nn.LSTM(\n",
        "      input_size = input_dim,\n",
        "      hidden_size = input_dim,\n",
        "      num_layers = 1,\n",
        "      batch_first = True\n",
        "    )\n",
        "\n",
        "    self.rnn2 = nn.LSTM(\n",
        "      input_size = input_dim,\n",
        "      hidden_size = self.hidden_dim,\n",
        "      num_layers = 1,\n",
        "      batch_first = True\n",
        "    )\n",
        "\n",
        "    self.output_layer = nn.Linear(self.hidden_dim, n_features)\n",
        "\n",
        "  def forward(self, x):\n",
        "    x = x.repeat(self.seq_len, self.n_features)\n",
        "    x = x.reshape((self.n_features, self.seq_len, self.input_dim))\n",
        "\n",
        "    x, (hidden_n, cell_n) = self.rnn1(x)\n",
        "    x, (hidden_n, cell_n) = self.rnn2(x)\n",
        "    x = x.reshape((self.seq_len, self.hidden_dim))\n",
        "\n",
        "    return  torch.sigmoid(self.output_layer(x))"
      ],
      "execution_count": 158,
      "outputs": []
    },
    {
      "cell_type": "code",
      "metadata": {
        "id": "n1mfxZIf3Tjt"
      },
      "source": [
        "# Reconstruction + KL divergence losses summed over all elements and batch\n",
        "def loss_function(x_hat, x, mu, logvar, beta = 1., loss = nn.BCEWithLogitsLoss(reduction = 'sum')):\n",
        "    \"\"\"\n",
        "    Check https://arxiv.org/abs/1312.6114 appendix\n",
        "    \"\"\"\n",
        "    likelihood = F.binary_cross_entropy(x_hat, x, reduction = 'sum')\n",
        "    #likelihood = loss(x_hat, x)\n",
        "    div = -0.5 * torch.sum(1 + logvar - mu.pow(2) - logvar.exp())\n",
        "\n",
        "    return likelihood + beta * div"
      ],
      "execution_count": 159,
      "outputs": []
    },
    {
      "cell_type": "code",
      "metadata": {
        "id": "6zfRta6Y3LRd"
      },
      "source": [
        "device = torch.device(\"cuda\" if torch.cuda.is_available() else \"cpu\")"
      ],
      "execution_count": 160,
      "outputs": []
    },
    {
      "cell_type": "code",
      "metadata": {
        "id": "r_2usMFC2zuI"
      },
      "source": [
        "embedding_dim = 60\n",
        "latent_dim = 20\n",
        "encoder = Encoder(seq_len, n_features, embedding_dim, latent_dim).to(device)\n",
        "decoder = Decoder(seq_len, latent_dim, n_features, embedding_dim).to(device)"
      ],
      "execution_count": 161,
      "outputs": []
    },
    {
      "cell_type": "code",
      "metadata": {
        "id": "qVN8HmtQ3XZ4"
      },
      "source": [
        "def train_model(encoder, decoder, train_dataset, n_epochs, lr = 1e-3, print_step = False):\n",
        "  history = []\n",
        "\n",
        "  params = list(encoder.parameters()) + list(decoder.parameters())\n",
        "  optimizer = optim.Adam(params, lr = lr)\n",
        "  \n",
        "  for epoch in range(1, n_epochs + 1):\n",
        "    encoder = encoder.train()\n",
        "    decoder = decoder.train()\n",
        "\n",
        "    train_losses = []\n",
        "    i = 0\n",
        "    for seq_true in train_dataset:\n",
        "      optimizer.zero_grad()\n",
        "\n",
        "      seq_true = seq_true.to(device)\n",
        "      out_enc, mu, logvar = encoder(seq_true)\n",
        "      seq_pred = decoder(out_enc)\n",
        "\n",
        "      loss = loss_function(seq_pred[:10], seq_true[:10], mu, logvar)\n",
        "  \n",
        "      loss.backward()\n",
        "      optimizer.step()\n",
        "\n",
        "      train_losses.append(loss.item())\n",
        "      if i % 100 == 0 and print_step:\n",
        "        print(i)\n",
        "      i += 1\n",
        "    train_loss = np.mean(train_losses)\n",
        "    history.append(train_loss)\n",
        "    print(f'Epoch {epoch}: train loss {train_loss}')\n",
        "  return history, encoder, decoder"
      ],
      "execution_count": 162,
      "outputs": []
    },
    {
      "cell_type": "code",
      "metadata": {
        "id": "1-DycZ6P39l6",
        "outputId": "6636f977-1d64-427a-ec3a-12d901c0963d",
        "colab": {
          "base_uri": "https://localhost:8080/"
        }
      },
      "source": [
        "hist, encoder, decoder = train_model(encoder, decoder, train_dataset, 50, lr = 1e-3, print_step = True)"
      ],
      "execution_count": 163,
      "outputs": [
        {
          "output_type": "stream",
          "text": [
            "0\n",
            "100\n",
            "200\n",
            "300\n",
            "Epoch 1: train loss 6.651234451532364\n",
            "0\n",
            "100\n",
            "200\n",
            "300\n",
            "Epoch 2: train loss 6.300555794239044\n",
            "0\n",
            "100\n",
            "200\n",
            "300\n",
            "Epoch 3: train loss 6.261681362390518\n",
            "0\n",
            "100\n",
            "200\n",
            "300\n",
            "Epoch 4: train loss 6.255232938528061\n",
            "0\n",
            "100\n",
            "200\n",
            "300\n",
            "Epoch 5: train loss 6.252330669164658\n",
            "0\n",
            "100\n",
            "200\n",
            "300\n",
            "Epoch 6: train loss 6.247820914983749\n",
            "0\n",
            "100\n",
            "200\n",
            "300\n",
            "Epoch 7: train loss 6.246786662340164\n",
            "0\n",
            "100\n",
            "200\n",
            "300\n",
            "Epoch 8: train loss 6.247222093343734\n",
            "0\n",
            "100\n",
            "200\n",
            "300\n",
            "Epoch 9: train loss 6.245663064718246\n",
            "0\n",
            "100\n",
            "200\n",
            "300\n",
            "Epoch 10: train loss 6.245228244066238\n",
            "0\n",
            "100\n",
            "200\n",
            "300\n",
            "Epoch 11: train loss 6.244844045639038\n",
            "0\n",
            "100\n",
            "200\n",
            "300\n",
            "Epoch 12: train loss 6.2450975477695465\n",
            "0\n",
            "100\n",
            "200\n",
            "300\n",
            "Epoch 13: train loss 6.244710993766785\n",
            "0\n",
            "100\n",
            "200\n",
            "300\n",
            "Epoch 14: train loss 6.2439688467979435\n",
            "0\n",
            "100\n",
            "200\n",
            "300\n",
            "Epoch 15: train loss 6.242931152582169\n",
            "0\n",
            "100\n",
            "200\n",
            "300\n",
            "Epoch 16: train loss 6.243306146860123\n",
            "0\n",
            "100\n",
            "200\n",
            "300\n",
            "Epoch 17: train loss 6.243130196332931\n",
            "0\n",
            "100\n",
            "200\n",
            "300\n",
            "Epoch 18: train loss 6.242672054767609\n",
            "0\n",
            "100\n",
            "200\n",
            "300\n",
            "Epoch 19: train loss 6.242892105579376\n",
            "0\n",
            "100\n",
            "200\n",
            "300\n",
            "Epoch 20: train loss 6.241820307970047\n",
            "0\n",
            "100\n",
            "200\n",
            "300\n",
            "Epoch 21: train loss 6.24262836098671\n",
            "0\n",
            "100\n",
            "200\n",
            "300\n",
            "Epoch 22: train loss 6.242449961900711\n",
            "0\n",
            "100\n",
            "200\n",
            "300\n",
            "Epoch 23: train loss 6.241988537311554\n",
            "0\n",
            "100\n",
            "200\n",
            "300\n",
            "Epoch 24: train loss 6.241380702257157\n",
            "0\n",
            "100\n",
            "200\n",
            "300\n",
            "Epoch 25: train loss 6.241975613832474\n",
            "0\n",
            "100\n",
            "200\n",
            "300\n",
            "Epoch 26: train loss 6.241889402866364\n",
            "0\n",
            "100\n",
            "200\n",
            "300\n",
            "Epoch 27: train loss 6.241683628559112\n",
            "0\n",
            "100\n",
            "200\n",
            "300\n",
            "Epoch 28: train loss 6.241554926633835\n",
            "0\n",
            "100\n",
            "200\n",
            "300\n",
            "Epoch 29: train loss 6.24103392958641\n",
            "0\n",
            "100\n",
            "200\n",
            "300\n",
            "Epoch 30: train loss 6.241189267635345\n",
            "0\n",
            "100\n",
            "200\n",
            "300\n",
            "Epoch 31: train loss 6.240804365873337\n",
            "0\n",
            "100\n",
            "200\n",
            "300\n",
            "Epoch 32: train loss 6.24089007973671\n",
            "0\n",
            "100\n",
            "200\n",
            "300\n",
            "Epoch 33: train loss 6.241075769662857\n",
            "0\n",
            "100\n",
            "200\n",
            "300\n",
            "Epoch 34: train loss 6.241429195404053\n",
            "0\n",
            "100\n",
            "200\n",
            "300\n",
            "Epoch 35: train loss 6.241069301366806\n",
            "0\n",
            "100\n",
            "200\n",
            "300\n",
            "Epoch 36: train loss 6.24035287976265\n",
            "0\n",
            "100\n",
            "200\n",
            "300\n",
            "Epoch 37: train loss 6.241020120382309\n",
            "0\n",
            "100\n",
            "200\n",
            "300\n",
            "Epoch 38: train loss 6.240465539693832\n",
            "0\n",
            "100\n",
            "200\n",
            "300\n",
            "Epoch 39: train loss 6.240547225475312\n",
            "0\n",
            "100\n",
            "200\n",
            "300\n",
            "Epoch 40: train loss 6.2405050134658815\n",
            "0\n",
            "100\n",
            "200\n",
            "300\n",
            "Epoch 41: train loss 6.2407565426826475\n",
            "0\n",
            "100\n",
            "200\n",
            "300\n",
            "Epoch 42: train loss 6.240760295391083\n",
            "0\n",
            "100\n",
            "200\n",
            "300\n",
            "Epoch 43: train loss 6.240317492485047\n",
            "0\n",
            "100\n",
            "200\n",
            "300\n",
            "Epoch 44: train loss 6.240215295553208\n",
            "0\n",
            "100\n",
            "200\n",
            "300\n",
            "Epoch 45: train loss 6.24041532754898\n",
            "0\n",
            "100\n",
            "200\n",
            "300\n",
            "Epoch 46: train loss 6.240029228925705\n",
            "0\n",
            "100\n",
            "200\n",
            "300\n",
            "Epoch 47: train loss 6.240592980384827\n",
            "0\n",
            "100\n",
            "200\n",
            "300\n",
            "Epoch 48: train loss 6.2405069637298585\n",
            "0\n",
            "100\n",
            "200\n",
            "300\n",
            "Epoch 49: train loss 6.240339910984039\n",
            "0\n",
            "100\n",
            "200\n",
            "300\n",
            "Epoch 50: train loss 6.240190206766129\n"
          ],
          "name": "stdout"
        }
      ]
    },
    {
      "cell_type": "code",
      "metadata": {
        "id": "Y96N3Rni7j0F",
        "outputId": "bf04309c-c7e6-4400-90b1-0861f1179128",
        "colab": {
          "base_uri": "https://localhost:8080/",
          "height": 282
        }
      },
      "source": [
        "plt.plot(hist)"
      ],
      "execution_count": 164,
      "outputs": [
        {
          "output_type": "execute_result",
          "data": {
            "text/plain": [
              "[<matplotlib.lines.Line2D at 0x7fd5564c11d0>]"
            ]
          },
          "metadata": {
            "tags": []
          },
          "execution_count": 164
        },
        {
          "output_type": "display_data",
          "data": {
            "image/png": "[encoded data removed]",
            "text/plain": [
              "<Figure size 432x288 with 1 Axes>"
            ]
          },
          "metadata": {
            "tags": [],
            "needs_background": "light"
          }
        }
      ]
    },
    {
      "cell_type": "code",
      "metadata": {
        "id": "lUydOTet6Zrd"
      },
      "source": [
        "MODEL_PATH_ENC = 'encoder.pth'\n",
        "MODEL_PATH_DEC = 'encoder.pth'\n",
        "\n",
        "torch.save(encoder, MODEL_PATH_ENC)\n",
        "torch.save(decoder, MODEL_PATH_DEC)"
      ],
      "execution_count": null,
      "outputs": []
    }
  ]
}