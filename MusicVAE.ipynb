{
 "cells": [
  {
   "cell_type": "markdown",
   "metadata": {},
   "source": [
    "# MusicVAE"
   ]
  },
  {
   "cell_type": "markdown",
   "metadata": {},
   "source": [
    "This is my implementation of the MusicVAE described in the paper \n",
    "https://arxiv.org/abs/1803.05428 <br>\n",
    "It is written with the help of the code found here: https://github.com/Variational-Autoencoder/MusicVAE"
   ]
  },
  {
   "cell_type": "code",
   "execution_count": 26,
   "metadata": {},
   "outputs": [],
   "source": [
    "import torch\n",
    "import numpy as np\n",
    "import torch.nn as nn\n",
    "from torch.nn.functional import softplus\n",
    "#DATA IMPORTING LIBRARIES\n",
    "# Add the src folder to the path\n",
    "import sys\n",
    "sys.path.insert(0, '../src/')\n",
    "\n",
    "from data.dataloader import MidiDataset\n",
    "from data.bar_transform import BarTransform\n",
    "from torch.utils.data import Dataset, DataLoader\n",
    "\n",
    "from torch.utils.data.sampler import SubsetRandomSampler\n",
    "from torch.utils.data import DataLoader, random_split\n",
    "\n",
    "\n",
    "#half of this is not yet needed but maybe it will be to visualize the latent space\n",
    "import matplotlib.pyplot as plt\n",
    "from IPython.display import Image, Audio, display, clear_output\n",
    "import numpy as np\n",
    "from sklearn.decomposition import PCA\n",
    "%matplotlib nbagg\n",
    "%matplotlib inline\n",
    "import seaborn as sns\n",
    "sns.set_style(\"whitegrid\")\n",
    "sns.set_palette(sns.dark_palette(\"purple\"))\n",
    "\n",
    "from midi_builder import MidiBuilder\n",
    "builder = MidiBuilder()"
   ]
  },
  {
   "cell_type": "code",
   "execution_count": 27,
   "metadata": {},
   "outputs": [],
   "source": [
    "cuda = torch.cuda.is_available()\n",
    "device = torch.device(\"cuda\" if cuda else \"cpu\")"
   ]
  },
  {
   "cell_type": "code",
   "execution_count": 3,
   "metadata": {},
   "outputs": [],
   "source": [
    "NOTESPERBAR = 16 #total notes in one bar\n",
    "\n",
    "totalbars = 16 #total bars as input \n",
    "NUM_PITCHES = 60 + 1 # all possible notes to play +1 for silences\n",
    "\n",
    "TOTAL_NOTES = NOTESPERBAR * totalbars\n",
    "\n",
    "num_features = NUM_PITCHES #size of input feature vector\n",
    "\n",
    "batch_size = 64 #actual batchsize\n",
    "\n",
    "TEACHER_FORCING = True #not used but it will be needed\n",
    "csv_filename = "
   ]
  },
  {
   "cell_type": "markdown",
   "metadata": {},
   "source": [
    "LOADING DATA"
   ]
  },
  {
   "cell_type": "code",
   "execution_count": 24,
   "metadata": {},
   "outputs": [
    {
     "name": "stdout",
     "output_type": "stream",
     "text": [
      "Train size: 6230, Test size: 1557\n"
     ]
    }
   ],
   "source": [
    "transform = BarTransform(bars = totalbars, note_count = NUM_PITCHES)\n",
    "midi_dataset = MidiDataset(csv_file = './piano_rolls.csv', transform = transform)\n",
    "midi_dataset.get_mem_usage()\n",
    "\n",
    "random_seed = 42\n",
    "test_split = 0.2\n",
    "shuffle = True\n",
    "\n",
    "if random_seed is not None:\n",
    "    np.random.seed(random_seed)\n",
    "    \n",
    "dataset_size = len(midi_dataset)           #number of musics on dataset\n",
    "test_size = int(test_split * dataset_size) #test size length\n",
    "train_size = dataset_size - test_size      #train data length\n",
    "\n",
    "train_dataset, test_dataset = random_split(midi_dataset, [train_size, test_size])\n",
    "\n",
    "train_loader = DataLoader(train_dataset, shuffle=shuffle, batch_size=batch_size, num_workers=4)#, sampler=train_sampler)\n",
    "test_loader = DataLoader(test_dataset, shuffle=shuffle, batch_size=batch_size, num_workers=4)#, sampler=test_sampler)\n",
    "\n",
    "print(\"Train size: {}, Test size: {}\".format(train_size, test_size))"
   ]
  },
  {
   "cell_type": "code",
   "execution_count": 23,
   "metadata": {},
   "outputs": [
    {
     "data": {
      "text/plain": [
       "(256, 61)"
      ]
     },
     "execution_count": 23,
     "metadata": {},
     "output_type": "execute_result"
    }
   ],
   "source": [
    "train_dataset[0]['piano_rolls'].shape"
   ]
  },
  {
   "cell_type": "markdown",
   "metadata": {},
   "source": [
    "## MusicVAE Model"
   ]
  },
  {
   "cell_type": "code",
   "execution_count": 25,
   "metadata": {},
   "outputs": [],
   "source": [
    "# Define size of variables\n",
    "input_size = NUM_PITCHES \n",
    "encoder_hidden_size = 256 # hidden size of the encoder \n",
    "conductor_hidden_size = 256 # hidden size of the decoder\n",
    "decoder_hidden_size = 64 # hidden size of the decoder\n",
    "decoder_initial_state = 32 # input size of the decoder\n",
    "\n",
    "n_layers_encoder = 1\n",
    "n_layers_conductor = 2\n",
    "n_layers_decoder = 1\n",
    "\n",
    "\n",
    "latent_features = 64 # latent space dimension\n",
    "sequence_length = 16 # notes per decoder\n",
    "\n",
    "dropout_rate = 0.2"
   ]
  },
  {
   "cell_type": "code",
   "execution_count": null,
   "metadata": {},
   "outputs": [],
   "source": [
    "class Encoder(nn.Module):\n",
    "    def __init__(self, latent_featurest):\n",
    "        super(Encoder, self).__init__()\n",
    "        self.latent_features = latent_features\n",
    "        \n",
    "        self.encoder = nn.LSTM(\n",
    "            batch_first = True,\n",
    "            input_size = input_size,\n",
    "            hidden_size = encoder_hidden_size,\n",
    "            num_layers = n_layers_encoder,\n",
    "            bidirectional = True)\n",
    "        self.encoderOut = nn.Linear(2 * encoder_hidden_size, 2 * latent_features)\n",
    "        self.linear_z = nn.Linear(latent_features, decoders_initial_size) \n",
    "        \n",
    "    def init_hidden(self, batch_size):   \n",
    "        init = torch.zeros(2, batch_size, enc_hidden_size, device = device)\n",
    "        c0 = torch.zeros(2, batch_size, enc_hidden_size, device = device)\n",
    "\n",
    "    def epsilon(self, epsilon_size):\n",
    "        # Don't propagate gradients through randomness\n",
    "        with torch.no_grad():\n",
    "            epsilon = torch.randn(epsilon_size, 1, self.latent_features, device = device)\n",
    "        return epsilon\n",
    "        \n",
    "    def forward(self, x):\n",
    "        batch_size = x.size(0)\n",
    "        note = torch.zeros(batch_size, 1 , NUM_PITCHES, device = device)\n",
    "        x = self.worddropout(x)\n",
    "        h0, c0, = self.init_hidden(batch_size)\n",
    "        x, hidden = self.encoder(x, (h0,c0))\n",
    "        x = self.encoderOut(x)\n",
    "        mu, log_var = torch.chunk(x, 2, dim = -1)\n",
    "        log_var = softplus(log_var) # Make sure that the log variance is positive\n",
    "\n",
    "        sigma = torch.exp(2 * log_var)\n",
    "        epsilon = self.epsilon(mu.size(0))\n",
    "        z = mu + epsilon * sigma\n",
    "        z = self.linear_z(z)\n",
    "        return z, mu, log_var\n",
    "        "
   ]
  },
  {
   "cell_type": "code",
   "execution_count": null,
   "metadata": {},
   "outputs": [],
   "source": [
    "class Decoder(nn.Module):\n",
    "    def __init__(self, ):\n",
    "        super(Decoder, self).__init__()\n",
    "        self.conductor = nn.LSTM(decoders_initial_size, \n",
    "                                 decoders_initial_size, \n",
    "                                 num_layers = 1,\n",
    "                                 batch_first = True)\n",
    "        \n",
    "        self.decoder = nn.LSTM(NUM_PITCHES + decoders_initial_size,\n",
    "                               decoders_initial_size, \n",
    "                               num_layers = 1,\n",
    "                               batch_first = True)\n",
    "  "
   ]
  },
  {
   "cell_type": "markdown",
   "metadata": {},
   "source": [
    "## DRAFTS"
   ]
  },
  {
   "cell_type": "code",
   "execution_count": null,
   "metadata": {},
   "outputs": [],
   "source": [
    "class VariationalAutoencoder(nn.Module):\n",
    "    def __init__(self, latent_features, teacher_forcing, eps_i):\n",
    "        super(VariationalAutoencoder, self).__init__()\n",
    "        self.teacher_forcing = teacher_forcing\n",
    "        self.eps_i = eps_i\n",
    "        \n",
    "        self.latent_features = latent_features\n",
    "        \n",
    "        self.encoder = nn.LSTM(\n",
    "            batch_first = True,\n",
    "            input_size = input_size,\n",
    "            hidden_size = encoder_hidden_size,\n",
    "            num_layers = n_layers_encoder,\n",
    "            bidirectional = True)\n",
    "        \n",
    "        self.encoderOut = nn.Linear(2 * encoder_hidden_size, 2 * latent_features)\n",
    "        self.linear_z = nn.Linear(latent_features, decoders_initial_size)\n",
    "        \n",
    "        self.dropout = nn.Dropout(p = dropout_rate)\n",
    "        self.worddropout = nn.Dropout2d(p = dropout_rate)\n",
    "        \n",
    "        self.conductor = nn.LSTM(decoders_initial_size, \n",
    "                                 decoders_initial_size, \n",
    "                                 num_layers = 1,\n",
    "                                 batch_first = True)\n",
    "        \n",
    "        self.decoder = nn.LSTM(NUM_PITCHES + decoders_initial_size, \n",
    "                               decoders_initial_size, \n",
    "                               num_layers = 1,\n",
    "                               batch_first = True)\n",
    "        \n",
    "        self.linear = nn.Linear(decoders_initial_size, NUM_PITCHES)\n",
    "\n",
    "   \n",
    "       \n",
    "        \n",
    "            "
   ]
  },
  {
   "cell_type": "code",
   "execution_count": null,
   "metadata": {},
   "outputs": [],
   "source": []
  }
 ],
 "metadata": {
  "kernelspec": {
   "display_name": "Python 3",
   "language": "python",
   "name": "python3"
  },
  "language_info": {
   "codemirror_mode": {
    "name": "ipython",
    "version": 3
   },
   "file_extension": ".py",
   "mimetype": "text/x-python",
   "name": "python",
   "nbconvert_exporter": "python",
   "pygments_lexer": "ipython3",
   "version": "3.7.4"
  }
 },
 "nbformat": 4,
 "nbformat_minor": 2
}
