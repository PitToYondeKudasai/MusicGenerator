{
 "cells": [
  {
   "cell_type": "markdown",
   "metadata": {},
   "source": [
    "## Sequence Variational Encoder "
   ]
  },
  {
   "cell_type": "markdown",
   "metadata": {},
   "source": [
    "In this notebook we implement a encoder similar to the one explained in the paper\n",
    "https://arxiv.org/abs/1803.05428"
   ]
  },
  {
   "cell_type": "code",
   "execution_count": 1,
   "metadata": {},
   "outputs": [],
   "source": [
    "import torch\n",
    "import torch.nn as nn\n",
    "from torch import nn, optim\n",
    "from torch.nn import functional as F\n",
    "\n",
    "# Libraries useful for the test dataset\n",
    "import seaborn as sns\n",
    "import numpy as np\n",
    "import matplotlib.pyplot as plt"
   ]
  },
  {
   "cell_type": "code",
   "execution_count": 2,
   "metadata": {},
   "outputs": [],
   "source": [
    "def create_input_sequences(input_data, tw):\n",
    "    input_seq = []\n",
    "    L = len(input_data)\n",
    "    for i in range(L-tw):\n",
    "        train_seq = input_data[i:i+tw]\n",
    "        input_seq.append(train_seq)\n",
    "    return input_seq"
   ]
  },
  {
   "cell_type": "code",
   "execution_count": 3,
   "metadata": {},
   "outputs": [],
   "source": [
    "# Here we create a set sequences of data\n",
    "flight_data = sns.load_dataset(\"flights\")\n",
    "all_data = flight_data['passengers'].values.astype(float)\n",
    "test_data_size = 12\n",
    "\n",
    "train_data = all_data[:-test_data_size]\n",
    "test_data = all_data[-test_data_size:]\n",
    "from sklearn.preprocessing import MinMaxScaler\n",
    "\n",
    "scaler = MinMaxScaler(feature_range=(0, 1))\n",
    "train_data_normalized = scaler.fit_transform(train_data .reshape(-1, 1))\n",
    "train_data_normalized = torch.FloatTensor(train_data_normalized).view(-1)\n",
    "train_window = 12\n",
    "train_input_seq = create_input_sequences(train_data_normalized, train_window)"
   ]
  },
  {
   "cell_type": "code",
   "execution_count": 4,
   "metadata": {},
   "outputs": [],
   "source": [
    "# The input_size is the size of the sequence\n",
    "# The latent_dim is the dimension of the latent space\n",
    "class Encoder(nn.Module):\n",
    "    def __init__(self, input_size, latent_dim):\n",
    "        super().__init__()\n",
    "        self.input_size = input_size\n",
    "        self.latent_dim = latent_dim        \n",
    "        self.hidden_cell = (torch.zeros(2,1,self.input_size),\n",
    "                            torch.zeros(2,1,self.input_size))\n",
    "        \n",
    "        self.lstm = nn.LSTM(input_size, input_size, bidirectional = True)\n",
    "        self.h = nn.Linear(2*input_size, input_size)\n",
    "        self.mu = nn.Linear(input_size, latent_dim)\n",
    "        self.logvar = nn.Linear(input_size, latent_dim)\n",
    "        \n",
    "    def sample(self, mu, logvar):\n",
    "        std = torch.exp(0.5*logvar)\n",
    "        eps = torch.randn_like(std)\n",
    "        return mu + eps*std\n",
    "          \n",
    "    def forward(self, input_seq):\n",
    "        lstm_out, hidden_cell = self.lstm(input_seq.view(-1 ,1, len(input_seq)), self.hidden_cell)\n",
    "        hidden_seq = torch.cat((hidden_cell[0][0], hidden_cell[0][1]), 1)\n",
    "        hidden_seq = F.relu(self.h(hidden_seq))\n",
    "        mu = self.mu(hidden_seq)\n",
    "        logvar = self.logvar(hidden_seq)\n",
    "        return self.sample(mu, logvar), mu, logvar"
   ]
  },
  {
   "cell_type": "code",
   "execution_count": 5,
   "metadata": {},
   "outputs": [],
   "source": [
    "# The input_size is the size of the sequence\n",
    "# The latent_dim is the dimension of the latent space\n",
    "class Decoder(nn.Module):\n",
    "    def __init__(self, latent_dim, output_size):\n",
    "        super().__init__()\n",
    "        self.latent_dim = latent_dim \n",
    "        self.output_size = output_size  \n",
    "        \n",
    "        self.h = nn.Linear(latent_dim, 2*latent_dim)\n",
    "        self.l1 = nn.Linear(2*latent_dim, output_size)\n",
    "        self.lstm = nn.LSTM(output_size, output_size)\n",
    "        \n",
    "    def forward(self, input_seq):\n",
    "        input_seq = F.relu(self.h(input_seq))\n",
    "        input_seq = self.l1(input_seq)\n",
    "        \n",
    "        input_seq = input_seq.view(len(input_seq), 1, -1)\n",
    "        hidden = (input_seq, torch.zeros(1, 1, self.output_size))\n",
    "        lstm_out, hidden_cell = self.lstm(torch.rand(1,1,self.output_size), hidden) \n",
    "        out = F.relu(lstm_out.view(1,self.output_size))\n",
    "        return torch.sigmoid(out)"
   ]
  },
  {
   "cell_type": "code",
   "execution_count": 6,
   "metadata": {},
   "outputs": [],
   "source": [
    "# Reconstruction + KL divergence losses summed over all elements and batch\n",
    "def loss_function(x_hat, x, mu, logvar, beta=1.):\n",
    "    \"\"\"\n",
    "    Check https://arxiv.org/abs/1312.6114 appendix\n",
    "    \"\"\"\n",
    "    likelihood = F.binary_cross_entropy(x_hat, x.view(-1, 12), reduction = 'sum')\n",
    "    div = -0.5 * torch.sum(1 + logvar - mu.pow(2) - logvar.exp())\n",
    "\n",
    "    return likelihood + beta * div"
   ]
  },
  {
   "cell_type": "code",
   "execution_count": 7,
   "metadata": {},
   "outputs": [],
   "source": [
    "encoder = Encoder(12,6)\n",
    "decoder = Decoder(6,12)\n",
    "params = list(encoder.parameters()) + list(decoder.parameters())\n",
    "optimizer = optim.Adam(params, lr = 1e-4)"
   ]
  },
  {
   "cell_type": "code",
   "execution_count": 8,
   "metadata": {},
   "outputs": [],
   "source": [
    "losses = []\n",
    "for i in range(100):\n",
    "    for i in range(len(train_input_seq)):\n",
    "        x = train_input_seq[i]\n",
    "        optimizer.zero_grad()\n",
    "        z, mu, logvar = encoder(x)\n",
    "        x_hat = decoder(z)\n",
    "        loss = loss_function(x_hat, x, mu, logvar)\n",
    "        losses.append(loss.item())\n",
    "        loss.backward(retain_graph = True)\n",
    "        optimizer.step()"
   ]
  },
  {
   "cell_type": "code",
   "execution_count": 9,
   "metadata": {},
   "outputs": [
    {
     "data": {
      "text/plain": [
       "[<matplotlib.lines.Line2D at 0x7fd8fcff0c10>]"
      ]
     },
     "execution_count": 9,
     "metadata": {},
     "output_type": "execute_result"
    },
    {
     "data": {
      "image/png": "[encoded data removed]",
      "text/plain": [
       "<Figure size 432x288 with 1 Axes>"
      ]
     },
     "metadata": {
      "needs_background": "light"
     },
     "output_type": "display_data"
    }
   ],
   "source": [
    "plt.plot(losses)"
   ]
  },
  {
   "cell_type": "markdown",
   "metadata": {},
   "source": [
    "We have a fu**ing problem. The error goes down but just because the Autoencoder learns how to cheat."
   ]
  },
  {
   "cell_type": "markdown",
   "metadata": {},
   "source": [
    "We will fix it"
   ]
  },
  {
   "cell_type": "code",
   "execution_count": 11,
   "metadata": {},
   "outputs": [
    {
     "data": {
      "text/plain": [
       "[<matplotlib.lines.Line2D at 0x7fd8fe1691d0>]"
      ]
     },
     "execution_count": 11,
     "metadata": {},
     "output_type": "execute_result"
    },
    {
     "data": {
      "image/png": "[encoded data removed]",
      "text/plain": [
       "<Figure size 432x288 with 1 Axes>"
      ]
     },
     "metadata": {
      "needs_background": "light"
     },
     "output_type": "display_data"
    }
   ],
   "source": [
    "test = train_input_seq[20]\n",
    "z, mu, logvar = encoder(test)\n",
    "out = decoder(z)\n",
    "plt.plot(test.detach().numpy())\n",
    "plt.plot(out[0].detach().numpy())"
   ]
  },
  {
   "cell_type": "code",
   "execution_count": 8,
   "metadata": {},
   "outputs": [
    {
     "data": {
      "text/plain": [
       "[<matplotlib.lines.Line2D at 0x7f9819967110>]"
      ]
     },
     "execution_count": 8,
     "metadata": {},
     "output_type": "execute_result"
    },
    {
     "data": {
      "image/png": "[encoded data removed]",
      "text/plain": [
       "<Figure size 432x288 with 1 Axes>"
      ]
     },
     "metadata": {
      "needs_background": "light"
     },
     "output_type": "display_data"
    }
   ],
   "source": [
    "plt.plot(train_data_normalized)"
   ]
  },
  {
   "cell_type": "markdown",
   "metadata": {},
   "source": [
    "## ------TEST------"
   ]
  },
  {
   "cell_type": "code",
   "execution_count": 224,
   "metadata": {},
   "outputs": [],
   "source": [
    "encoder = Encoder(12,4)\n",
    "input_seq = torch.rand(12,1)\n",
    "out_seq = torch.rand(1,4) \n",
    "loss_function = nn.MSELoss()\n",
    "optimizer = torch.optim.Adam(encoder.parameters(), lr = 0.001)"
   ]
  },
  {
   "cell_type": "code",
   "execution_count": 226,
   "metadata": {},
   "outputs": [],
   "source": [
    "for i in range(10):\n",
    "    optimizer.zero_grad()\n",
    "    test = encoder(torch.rand(12,1))\n",
    "    loss = loss_function(test[0], out_seq)\n",
    "    loss.backward(retain_graph = True)\n",
    "    optimizer.step()"
   ]
  },
  {
   "cell_type": "code",
   "execution_count": 92,
   "metadata": {},
   "outputs": [
    {
     "data": {
      "text/plain": [
       "(tensor([[ 1.5969, -1.0974, -0.2379,  0.8868]], grad_fn=<AddBackward0>),\n",
       " tensor([[-0.1018,  0.1361,  0.0439,  0.0860]], grad_fn=<AddmmBackward>),\n",
       " tensor([[ 0.0249,  0.2832,  0.0918, -0.2946]], grad_fn=<AddmmBackward>))"
      ]
     },
     "execution_count": 92,
     "metadata": {},
     "output_type": "execute_result"
    }
   ],
   "source": [
    "latent_space_mapping = encoder(train_input_seq[0])\n",
    "print(latent_space_mapping)\n",
    "forecast_out = decoder(latent_space_mapping[0])"
   ]
  },
  {
   "cell_type": "code",
   "execution_count": 185,
   "metadata": {},
   "outputs": [],
   "source": [
    "latent_dim = 4\n",
    "output_size = 12\n",
    "l1 = nn.Linear(latent_dim, output_size)\n",
    "lstm = nn.LSTM(output_size, output_size, bidirectional = True)"
   ]
  },
  {
   "cell_type": "code",
   "execution_count": 209,
   "metadata": {},
   "outputs": [],
   "source": [
    "in_seq = torch.rand(1,1,output_size)\n",
    "out_seq = torch.rand(1,2*output_size) \n",
    "loss_function = nn.MSELoss()\n",
    "optimizer = torch.optim.Adam(lstm.parameters(), lr = 0.001)"
   ]
  },
  {
   "cell_type": "code",
   "execution_count": 221,
   "metadata": {},
   "outputs": [],
   "source": [
    "losses = []\n",
    "for i in range(1000):\n",
    "    optimizer.zero_grad()\n",
    "    test, hidden = lstm(in_seq)\n",
    "    hid = torch.cat((hidden[0][0], hidden[0][1]), 1)\n",
    "    loss = loss_function(hid, out_seq)\n",
    "    losses.append(loss.item())\n",
    "    loss.backward(retain_graph = True)\n",
    "    optimizer.step()    "
   ]
  },
  {
   "cell_type": "code",
   "execution_count": 222,
   "metadata": {},
   "outputs": [
    {
     "data": {
      "text/plain": [
       "[<matplotlib.lines.Line2D at 0x7fe1cc4babd0>]"
      ]
     },
     "execution_count": 222,
     "metadata": {},
     "output_type": "execute_result"
    },
    {
     "data": {
      "image/png": "[encoded data removed]",
      "text/plain": [
       "<Figure size 432x288 with 1 Axes>"
      ]
     },
     "metadata": {
      "needs_background": "light"
     },
     "output_type": "display_data"
    }
   ],
   "source": [
    "plt.plot(losses)"
   ]
  },
  {
   "cell_type": "code",
   "execution_count": null,
   "metadata": {},
   "outputs": [],
   "source": []
  }
 ],
 "metadata": {
  "kernelspec": {
   "display_name": "Python 3",
   "language": "python",
   "name": "python3"
  },
  "language_info": {
   "codemirror_mode": {
    "name": "ipython",
    "version": 3
   },
   "file_extension": ".py",
   "mimetype": "text/x-python",
   "name": "python",
   "nbconvert_exporter": "python",
   "pygments_lexer": "ipython3",
   "version": "3.7.4"
  }
 },
 "nbformat": 4,
 "nbformat_minor": 2
}
