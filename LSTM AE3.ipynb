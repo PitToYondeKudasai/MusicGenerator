{
  "nbformat": 4,
  "nbformat_minor": 0,
  "metadata": {
    "colab": {
      "name": "LSTM VAE.ipynb",
      "provenance": []
    },
    "kernelspec": {
      "name": "python3",
      "display_name": "Python 3"
    },
    "accelerator": "GPU"
  },
  "cells": [
    {
      "cell_type": "code",
      "metadata": {
        "id": "mliYmM72y_cP"
      },
      "source": [
        "import numpy as np\n",
        "import pandas as pd\n",
        "import torch \n",
        "from torch import nn, optim\n",
        "import matplotlib.pyplot as plt\n",
        "import torch.nn.functional as F\n",
        "from sklearn.preprocessing import MinMaxScaler"
      ],
      "execution_count": 5,
      "outputs": []
    },
    {
      "cell_type": "code",
      "metadata": {
        "id": "EUndVGXWzA7q"
      },
      "source": [
        "device = torch.device(\"cuda\" if torch.cuda.is_available() else \"cpu\")"
      ],
      "execution_count": 6,
      "outputs": []
    },
    {
      "cell_type": "code",
      "metadata": {
        "id": "7cfVlmpkzCoF"
      },
      "source": [
        "length_seq = 10\n",
        "n_sample = 800\n",
        "\n",
        "train_data = []\n",
        "samplerate = length_seq\n",
        "for i in range(n_sample):\n",
        "  fs1 = np.random.randint(samplerate)\n",
        "  fs2 = np.random.randint(samplerate)\n",
        "  t = np.linspace(0., 1., samplerate)\n",
        "  amplitude1 = np.iinfo(np.int16).max/10000\n",
        "  amplitude2 = np.iinfo(np.int16).max/20000\n",
        "  data1 = amplitude1 * np.sin(2. * np.pi * fs1 * t)\n",
        "  data2 = amplitude2 * np.sin(2. * np.pi * fs2 * t)\n",
        "  train_data.append(data1+data2)"
      ],
      "execution_count": 7,
      "outputs": []
    },
    {
      "cell_type": "code",
      "metadata": {
        "id": "VFoF1DnWzHA2"
      },
      "source": [
        "train_data = np.array(train_data)\n",
        "train_data = pd.DataFrame(train_data)\n",
        "scaler = MinMaxScaler(feature_range=(0, 1))\n",
        "train_data_normalized = pd.DataFrame(scaler.fit_transform(train_data))"
      ],
      "execution_count": 8,
      "outputs": []
    },
    {
      "cell_type": "code",
      "metadata": {
        "id": "Bqa89OBMzJGp"
      },
      "source": [
        "def create_dataset(df):\n",
        "  sequences = df.astype(np.float32).to_numpy().tolist()\n",
        "  dataset = [torch.tensor(s).unsqueeze(1).float() for s in sequences]\n",
        "  n_seq, seq_len, n_features = torch.stack(dataset).shape\n",
        "  return dataset, seq_len, n_features"
      ],
      "execution_count": 9,
      "outputs": []
    },
    {
      "cell_type": "code",
      "metadata": {
        "id": "J_0urWVozPSB"
      },
      "source": [
        "train_dataset, seq_len, n_features = create_dataset(train_data_normalized)"
      ],
      "execution_count": 10,
      "outputs": []
    },
    {
      "cell_type": "code",
      "metadata": {
        "id": "KVRtAJ_BzWf6"
      },
      "source": [
        "class Encoder(nn.Module):\n",
        "\n",
        "  def __init__(self, seq_len, n_features, embedding_dim=64):\n",
        "    super(Encoder, self).__init__()\n",
        "\n",
        "    self.seq_len, self.n_features = seq_len, n_features\n",
        "    self.embedding_dim, self.hidden_dim = embedding_dim, 2 * embedding_dim\n",
        "\n",
        "    self.rnn1 = nn.LSTM(\n",
        "      input_size=n_features,\n",
        "      hidden_size=self.hidden_dim,\n",
        "      num_layers=1,\n",
        "      batch_first=True\n",
        "    )\n",
        "    \n",
        "    self.rnn2 = nn.LSTM(\n",
        "      input_size=self.hidden_dim,\n",
        "      hidden_size=embedding_dim,\n",
        "      num_layers=1,\n",
        "      batch_first=True\n",
        "    )\n",
        "\n",
        "  def forward(self, x):\n",
        "    x = x.reshape((1, self.seq_len, self.n_features))\n",
        "\n",
        "    x, (_, _) = self.rnn1(x)\n",
        "    x, (hidden_n, _) = self.rnn2(x)\n",
        "\n",
        "    return hidden_n.reshape((self.n_features, self.embedding_dim))"
      ],
      "execution_count": 11,
      "outputs": []
    },
    {
      "cell_type": "code",
      "metadata": {
        "id": "-8QpxUt4zZYD"
      },
      "source": [
        "class Decoder(nn.Module):\n",
        "\n",
        "  def __init__(self, seq_len, input_dim=64, n_features=1):\n",
        "    super(Decoder, self).__init__()\n",
        "\n",
        "    self.seq_len, self.input_dim = seq_len, input_dim\n",
        "    self.hidden_dim, self.n_features = 2 * input_dim, n_features\n",
        "\n",
        "    self.rnn1 = nn.LSTM(\n",
        "      input_size=input_dim,\n",
        "      hidden_size=input_dim,\n",
        "      num_layers=1,\n",
        "      batch_first=True\n",
        "    )\n",
        "\n",
        "    self.rnn2 = nn.LSTM(\n",
        "      input_size=input_dim,\n",
        "      hidden_size=self.hidden_dim,\n",
        "      num_layers=1,\n",
        "      batch_first=True\n",
        "    )\n",
        "\n",
        "    self.output_layer = nn.Linear(self.hidden_dim, n_features)\n",
        "\n",
        "  def forward(self, x):\n",
        "    x = x.repeat(self.seq_len, self.n_features)\n",
        "    x = x.reshape((self.n_features, self.seq_len, self.input_dim))\n",
        "\n",
        "    x, (hidden_n, cell_n) = self.rnn1(x)\n",
        "    x, (hidden_n, cell_n) = self.rnn2(x)\n",
        "    x = x.reshape((self.seq_len, self.hidden_dim))\n",
        "\n",
        "    return self.output_layer(x)"
      ],
      "execution_count": 12,
      "outputs": []
    },
    {
      "cell_type": "code",
      "metadata": {
        "id": "HYyaCTkpz9BR"
      },
      "source": [
        "class RecurrentAutoencoder(nn.Module):\n",
        "\n",
        "  def __init__(self, seq_len, n_features, embedding_dim=64):\n",
        "    super(RecurrentAutoencoder, self).__init__()\n",
        "\n",
        "    self.encoder = Encoder(seq_len, n_features, embedding_dim).to(device)\n",
        "    self.decoder = Decoder(seq_len, embedding_dim, n_features).to(device)\n",
        "\n",
        "  def forward(self, x):\n",
        "    x = self.encoder(x)\n",
        "    x = self.decoder(x)\n",
        "\n",
        "    return x"
      ],
      "execution_count": 13,
      "outputs": []
    },
    {
      "cell_type": "code",
      "metadata": {
        "id": "maZn59CCz9ho"
      },
      "source": [
        "model = RecurrentAutoencoder(seq_len, n_features, 128)\n",
        "model = model.to(device)"
      ],
      "execution_count": 14,
      "outputs": []
    },
    {
      "cell_type": "code",
      "metadata": {
        "id": "JL0XMgee0B_G"
      },
      "source": [
        "def train_model(model, train_dataset, val_dataset, n_epochs):\n",
        "  optimizer = torch.optim.Adam(model.parameters(), lr=1e-3)\n",
        "  criterion = nn.L1Loss(reduction='sum').to(device)\n",
        "  history = dict(train=[], val=[])\n",
        "\n",
        "  best_model_wts = copy.deepcopy(model.state_dict())\n",
        "  best_loss = 10000.0\n",
        "  \n",
        "  for epoch in range(1, n_epochs + 1):\n",
        "    model = model.train()\n",
        "\n",
        "    train_losses = []\n",
        "    for seq_true in train_dataset:\n",
        "      optimizer.zero_grad()\n",
        "\n",
        "      seq_true = seq_true.to(device)\n",
        "      seq_pred = model(seq_true)\n",
        "\n",
        "      loss = criterion(seq_pred, seq_true)\n",
        "\n",
        "      loss.backward()\n",
        "      optimizer.step()\n",
        "\n",
        "      train_losses.append(loss.item())\n",
        "\n",
        "    val_losses = []\n",
        "    model = model.eval()\n",
        "    with torch.no_grad():\n",
        "      for seq_true in val_dataset:\n",
        "\n",
        "        seq_true = seq_true.to(device)\n",
        "        seq_pred = model(seq_true)\n",
        "\n",
        "        loss = criterion(seq_pred, seq_true)\n",
        "        val_losses.append(loss.item())\n",
        "\n",
        "    train_loss = np.mean(train_losses)\n",
        "    val_loss = np.mean(val_losses)\n",
        "\n",
        "    history['train'].append(train_loss)\n",
        "    history['val'].append(val_loss)\n",
        "\n",
        "    if val_loss < best_loss:\n",
        "      best_loss = val_loss\n",
        "      best_model_wts = copy.deepcopy(model.state_dict())\n",
        "\n",
        "    print(f'Epoch {epoch}: train loss {train_loss} val loss {val_loss}')\n",
        "\n",
        "  model.load_state_dict(best_model_wts)\n",
        "  return model.eval(), history"
      ],
      "execution_count": 15,
      "outputs": []
    },
    {
      "cell_type": "code",
      "metadata": {
        "id": "IMpdWKCF0Kkj",
        "outputId": "79d09703-2102-4660-f713-625eee700ed4",
        "colab": {
          "base_uri": "https://localhost:8080/"
        }
      },
      "source": [
        "import copy\n",
        "model, history = train_model(\n",
        "  model, \n",
        "  train_dataset, \n",
        "  train_dataset, \n",
        "  n_epochs = 50\n",
        ")"
      ],
      "execution_count": 16,
      "outputs": [
        {
          "output_type": "stream",
          "text": [
            "Epoch 1: train loss 2.047228029668331 val loss 1.97139848344028\n",
            "Epoch 2: train loss 1.8623412030935287 val loss 1.6690049406513572\n",
            "Epoch 3: train loss 1.6256821595691144 val loss 1.5385088378190994\n",
            "Epoch 4: train loss 1.4263756978139281 val loss 1.3174599413573742\n",
            "Epoch 5: train loss 1.1924547152407468 val loss 1.0689804939553142\n",
            "Epoch 6: train loss 0.9355849634390324 val loss 0.8668202511593699\n",
            "Epoch 7: train loss 0.7368597624637186 val loss 0.7186996158212423\n",
            "Epoch 8: train loss 0.6723816040530801 val loss 0.5998549885675311\n",
            "Epoch 9: train loss 0.5800543623417616 val loss 0.5234476130455732\n",
            "Epoch 10: train loss 0.5141199300531298 val loss 0.4966277765855193\n",
            "Epoch 11: train loss 0.4610370121337473 val loss 0.5429366344586015\n",
            "Epoch 12: train loss 0.41159124570898714 val loss 0.4288109139446169\n",
            "Epoch 13: train loss 0.3743434075359255 val loss 0.3128421591501683\n",
            "Epoch 14: train loss 0.34480924470350144 val loss 0.34331276633776725\n",
            "Epoch 15: train loss 0.3120022713299841 val loss 0.3308797505684197\n",
            "Epoch 16: train loss 0.3086157155223191 val loss 0.36016433257609604\n",
            "Epoch 17: train loss 0.28746547632385044 val loss 0.3037764533609152\n",
            "Epoch 18: train loss 0.2789421418774873 val loss 0.2475713744945824\n",
            "Epoch 19: train loss 0.2658515803143382 val loss 0.25221333412453534\n",
            "Epoch 20: train loss 0.2530493714194745 val loss 0.2687931848596781\n",
            "Epoch 21: train loss 0.26012509210500867 val loss 0.345393192358315\n",
            "Epoch 22: train loss 0.24798486214131116 val loss 0.22580068480689078\n",
            "Epoch 23: train loss 0.23158408286515622 val loss 0.2659597299341112\n",
            "Epoch 24: train loss 0.22797096863854677 val loss 0.24937644048593938\n",
            "Epoch 25: train loss 0.21939362429082393 val loss 0.23439854393713178\n",
            "Epoch 26: train loss 0.2234275800222531 val loss 0.21898094524629413\n",
            "Epoch 27: train loss 0.21305241263005884 val loss 0.23216489328071474\n",
            "Epoch 28: train loss 0.21207411512266844 val loss 0.23403457737527789\n",
            "Epoch 29: train loss 0.20657312077935785 val loss 0.2383793447818607\n",
            "Epoch 30: train loss 0.19828274527564646 val loss 0.18855455015785993\n",
            "Epoch 31: train loss 0.19223184105474503 val loss 0.19214208929799498\n",
            "Epoch 32: train loss 0.19514213734306396 val loss 0.1928607880976051\n",
            "Epoch 33: train loss 0.19042049875948577 val loss 0.20371923150494695\n",
            "Epoch 34: train loss 0.18771730135194958 val loss 0.19969624225981533\n",
            "Epoch 35: train loss 0.1841635059705004 val loss 0.20981709585059435\n",
            "Epoch 36: train loss 0.1814431322365999 val loss 0.21562338747084142\n",
            "Epoch 37: train loss 0.17591586275491863 val loss 0.21565652350895106\n",
            "Epoch 38: train loss 0.17313613889273255 val loss 0.2101346742734313\n",
            "Epoch 39: train loss 0.1777410376491025 val loss 0.20037313007749616\n",
            "Epoch 40: train loss 0.17503434506244958 val loss 0.1914854199718684\n",
            "Epoch 41: train loss 0.16932145403232426 val loss 0.1642806902900338\n",
            "Epoch 42: train loss 0.1610867165820673 val loss 0.19362171293236316\n",
            "Epoch 43: train loss 0.15808446078561247 val loss 0.2051675441302359\n",
            "Epoch 44: train loss 0.16819422229658812 val loss 0.19100047431886197\n",
            "Epoch 45: train loss 0.1626392046874389 val loss 0.1385954061849043\n",
            "Epoch 46: train loss 0.1562341302167624 val loss 0.1901933630928397\n",
            "Epoch 47: train loss 0.1609804429113865 val loss 0.17325253169983626\n",
            "Epoch 48: train loss 0.14931930840946733 val loss 0.1656758301984519\n",
            "Epoch 49: train loss 0.15209708738140762 val loss 0.19133049177005887\n",
            "Epoch 50: train loss 0.15008477961178868 val loss 0.17242167100310327\n"
          ],
          "name": "stdout"
        }
      ]
    },
    {
      "cell_type": "code",
      "metadata": {
        "id": "5WKegt3R2DDW"
      },
      "source": [
        "test_seq = train_dataset[10]\n",
        "test_seq = test_seq.to(device)\n",
        "seq_pred = model(test_seq)"
      ],
      "execution_count": 19,
      "outputs": []
    },
    {
      "cell_type": "code",
      "metadata": {
        "id": "fm6RFRvN2WuD",
        "outputId": "46ea55e5-bc4d-479e-fc8d-6b4fe397ee48",
        "colab": {
          "base_uri": "https://localhost:8080/",
          "height": 282
        }
      },
      "source": [
        "ax = plt.figure().gca()\n",
        "\n",
        "ax.plot(seq_pred.cpu().detach().numpy())\n",
        "ax.plot(test_seq.cpu().detach().numpy())\n",
        "plt.legend(['pred', 'real'])"
      ],
      "execution_count": 20,
      "outputs": [
        {
          "output_type": "execute_result",
          "data": {
            "text/plain": [
              "<matplotlib.legend.Legend at 0x7fcb66261390>"
            ]
          },
          "metadata": {
            "tags": []
          },
          "execution_count": 20
        },
        {
          "output_type": "display_data",
          "data": {
            "image/png": "[encoded data removed]",
            "text/plain": [
              "<Figure size 432x288 with 1 Axes>"
            ]
          },
          "metadata": {
            "tags": [],
            "needs_background": "light"
          }
        }
      ]
    },
    {
      "cell_type": "code",
      "metadata": {
        "id": "kQI9rOFc0LOi",
        "outputId": "b9669ba2-3654-4f93-ad0b-c309372d6919",
        "colab": {
          "base_uri": "https://localhost:8080/",
          "height": 295
        }
      },
      "source": [
        "ax = plt.figure().gca()\n",
        "\n",
        "ax.plot(history['train'])\n",
        "ax.plot(history['val'])\n",
        "plt.ylabel('Loss')\n",
        "plt.xlabel('Epoch')\n",
        "plt.legend(['train', 'test'])\n",
        "plt.title('Loss over training epochs')\n",
        "plt.show();"
      ],
      "execution_count": 21,
      "outputs": [
        {
          "output_type": "display_data",
          "data": {
            "image/png": "[encoded data removed]",
            "text/plain": [
              "<Figure size 432x288 with 1 Axes>"
            ]
          },
          "metadata": {
            "tags": [],
            "needs_background": "light"
          }
        }
      ]
    },
    {
      "cell_type": "code",
      "metadata": {
        "id": "1ukl919J2sp4"
      },
      "source": [
        ""
      ],
      "execution_count": null,
      "outputs": []
    }
  ]
}